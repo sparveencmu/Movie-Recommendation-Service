{
  "nbformat": 4,
  "nbformat_minor": 0,
  "metadata": {
    "colab": {
      "provenance": [],
      "collapsed_sections": []
    },
    "kernelspec": {
      "name": "python3",
      "display_name": "Python 3"
    },
    "language_info": {
      "name": "python"
    },
    "accelerator": "GPU"
  },
  "cells": [
    {
      "cell_type": "code",
      "execution_count": 1,
      "metadata": {
        "colab": {
          "base_uri": "https://localhost:8080/"
        },
        "id": "z2vW1Mst9bJB",
        "outputId": "46714395-b2e2-4807-9f80-bafeaf80e156"
      },
      "outputs": [
        {
          "output_type": "stream",
          "name": "stdout",
          "text": [
            "Mounted at /content/drive\n"
          ]
        }
      ],
      "source": [
        "from google.colab import drive\n",
        "drive.mount('/content/drive')"
      ]
    },
    {
      "cell_type": "code",
      "source": [
        "%cd \"/content/drive/MyDrive/17-645/PopcornTime_MLinProd\""
      ],
      "metadata": {
        "colab": {
          "base_uri": "https://localhost:8080/"
        },
        "id": "FglUeJkS9mr5",
        "outputId": "d8e43a0c-d913-4e4d-8628-cd1d4b951a25"
      },
      "execution_count": 2,
      "outputs": [
        {
          "output_type": "stream",
          "name": "stdout",
          "text": [
            "/content/drive/.shortcut-targets-by-id/1m1h6atD_1yYXiQoSTMMQlUS4l2XaLI2E/PopcornTime_MLinProd\n"
          ]
        }
      ]
    },
    {
      "cell_type": "code",
      "source": [
        "import pandas as pd\n",
        "import numpy as np\n",
        "import scipy.sparse as sp\n",
        "import scipy.linalg as la\n",
        "from sklearn.metrics import mean_squared_error\n",
        "from time import perf_counter as pc\n",
        "from tqdm import tqdm\n",
        "from matplotlib import pyplot as plt"
      ],
      "metadata": {
        "id": "ZtREt17g97hu"
      },
      "execution_count": 3,
      "outputs": []
    },
    {
      "cell_type": "code",
      "source": [
        "! pip install implicit"
      ],
      "metadata": {
        "colab": {
          "base_uri": "https://localhost:8080/"
        },
        "id": "CulI6W0M-AT-",
        "outputId": "c38a032d-ccd9-47f5-d5c6-01468b3e8bae"
      },
      "execution_count": 4,
      "outputs": [
        {
          "output_type": "stream",
          "name": "stdout",
          "text": [
            "Looking in indexes: https://pypi.org/simple, https://us-python.pkg.dev/colab-wheels/public/simple/\n",
            "Collecting implicit\n",
            "  Downloading implicit-0.6.1-cp37-cp37m-manylinux2014_x86_64.whl (18.6 MB)\n",
            "\u001b[K     |████████████████████████████████| 18.6 MB 1.1 MB/s \n",
            "\u001b[?25hRequirement already satisfied: numpy in /usr/local/lib/python3.7/dist-packages (from implicit) (1.21.6)\n",
            "Requirement already satisfied: tqdm>=4.27 in /usr/local/lib/python3.7/dist-packages (from implicit) (4.64.1)\n",
            "Requirement already satisfied: scipy>=0.16 in /usr/local/lib/python3.7/dist-packages (from implicit) (1.7.3)\n",
            "Installing collected packages: implicit\n",
            "Successfully installed implicit-0.6.1\n"
          ]
        }
      ]
    },
    {
      "cell_type": "code",
      "source": [
        "from implicit.gpu.als import AlternatingLeastSquares\n",
        "from implicit.gpu.bpr import BayesianPersonalizedRanking\n",
        "\n",
        "from implicit.cpu.lmf import LogisticMatrixFactorization\n",
        "\n",
        "from implicit.evaluation import precision_at_k, mean_average_precision_at_k, ndcg_at_k"
      ],
      "metadata": {
        "id": "7X-uxhHk-GSw"
      },
      "execution_count": 5,
      "outputs": []
    },
    {
      "cell_type": "code",
      "source": [
        "def load_data(dataset):\n",
        "  train = sp.load_npz('Data/Split/train_' + dataset + '.npz')\n",
        "  val = sp.load_npz('Data/Split/val_' + dataset + '.npz')\n",
        "  test = sp.load_npz('Data/Split/test_' + dataset + '.npz')\n",
        "\n",
        "  return train, val, test"
      ],
      "metadata": {
        "id": "MOQOt9CR-LjL"
      },
      "execution_count": 6,
      "outputs": []
    },
    {
      "cell_type": "code",
      "source": [
        "def training(n_epochs=20):\n",
        "  pak_list = []\n",
        "\n",
        "  for epoch in tqdm(range(n_epochs)):\n",
        "    model.fit(train, show_progress=False)\n",
        "    pak_list.append(precision_at_k(model, train, val, K=20, show_progress=False))\n",
        "\n",
        "  mapk = mean_average_precision_at_k(model, train, val, K=20, show_progress=False)\n",
        "  ndcgk= ndcg_at_k(model, train, val, K=20, show_progress=False)\n",
        "\n",
        "  return pak_list, mapk, ndcgk"
      ],
      "metadata": {
        "id": "S_nAIvww-gQk"
      },
      "execution_count": 7,
      "outputs": []
    },
    {
      "cell_type": "code",
      "source": [
        "def run_training(n_epochs):\n",
        "  pak_list, mapk, ndcgk = training(n_epochs=30)\n",
        "  \n",
        "  pak_list = np.array(pak_list)\n",
        "  plt.plot(pak_list)\n",
        "  plt.show()\n",
        "\n",
        "  print(\"P@k = {}\".format(pak_list[-1]))\n",
        "  print(\"MAP@k = {}\".format(mapk))\n",
        "  print(\"NDCG@k = {}\".format(ndcgk))\n",
        "  print(\"Best validation p@K at epoch {}: {}\".format(np.argmax(pak_list)+1, np.max(pak_list)))"
      ],
      "metadata": {
        "id": "Hko-wME2AzU8"
      },
      "execution_count": 8,
      "outputs": []
    },
    {
      "cell_type": "code",
      "source": [
        "train, val, test = load_data('1500k')"
      ],
      "metadata": {
        "id": "M91fnrVqDt_2"
      },
      "execution_count": null,
      "outputs": []
    },
    {
      "cell_type": "code",
      "source": [
        "model = AlternatingLeastSquares(iterations=1, factors=32, regularization=0.01, alpha=1)\n",
        "# model = BayesianPersonalizedRanking(iterations=1, factors=100)\n",
        "# model = LogisticMatrixFactorization(iterations=1, factors=200)"
      ],
      "metadata": {
        "id": "sd8UISe2EF-6"
      },
      "execution_count": null,
      "outputs": []
    },
    {
      "cell_type": "code",
      "source": [
        "run_training(30)"
      ],
      "metadata": {
        "colab": {
          "base_uri": "https://localhost:8080/",
          "height": 352
        },
        "id": "SwTU1ZEr-_JI",
        "outputId": "15f029b5-4ee9-4c5d-f95d-05d082ecf24f"
      },
      "execution_count": null,
      "outputs": [
        {
          "output_type": "stream",
          "name": "stderr",
          "text": [
            "100%|██████████| 30/30 [00:07<00:00,  4.26it/s]\n"
          ]
        },
        {
          "output_type": "display_data",
          "data": {
            "text/plain": [
              "<Figure size 432x288 with 1 Axes>"
            ],
            "image/png": "[encoded data removed]"
          },
          "metadata": {
            "needs_background": "light"
          }
        },
        {
          "output_type": "stream",
          "name": "stdout",
          "text": [
            "P@k = 0.140027340713539\n",
            "MAP@k = 0.03588836102521367\n",
            "NDCG@k = 0.05828870652170411\n",
            "Best validation p@K at epoch 20: 0.14013455919800574\n"
          ]
        }
      ]
    },
    {
      "cell_type": "code",
      "source": [],
      "metadata": {
        "id": "368vxWib01OQ"
      },
      "execution_count": null,
      "outputs": []
    },
    {
      "cell_type": "code",
      "source": [
        "data = sp.load_npz('Data/Full/X_1500k.npz')\n",
        "model = AlternatingLeastSquares(iterations=30, factors=32, regularization=0.01, alpha=1)\n",
        "model.fit(data, show_progress=False)"
      ],
      "metadata": {
        "id": "f3-PDauz0u3u"
      },
      "execution_count": 10,
      "outputs": []
    },
    {
      "cell_type": "code",
      "source": [
        "model.save('als.npz')"
      ],
      "metadata": {
        "colab": {
          "base_uri": "https://localhost:8080/"
        },
        "id": "GFZNckZe_1Fv",
        "outputId": "5520e26a-985d-4ddc-cea0-73507302a953"
      },
      "execution_count": 11,
      "outputs": [
        {
          "output_type": "stream",
          "name": "stderr",
          "text": [
            "/usr/local/lib/python3.7/dist-packages/implicit/utils.py:29: UserWarning: OpenBLAS detected. Its highly recommend to set the environment variable 'export OPENBLAS_NUM_THREADS=1' to disable its internal multithreading\n",
            "  \"OpenBLAS detected. Its highly recommend to set the environment variable \"\n"
          ]
        }
      ]
    },
    {
      "cell_type": "code",
      "source": [],
      "metadata": {
        "id": "0uBVfJ5kHREJ"
      },
      "execution_count": null,
      "outputs": []
    }
  ]
}
