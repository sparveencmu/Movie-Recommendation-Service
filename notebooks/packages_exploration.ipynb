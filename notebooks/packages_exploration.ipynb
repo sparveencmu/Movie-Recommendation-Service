{
 "cells": [
  {
   "cell_type": "code",
   "execution_count": 1,
   "id": "7a404a1f",
   "metadata": {},
   "outputs": [],
   "source": [
    "import json\n",
    "import pandas as pd\n",
    "import numpy as np\n",
    "import scipy.sparse as sp\n",
    "import scipy.linalg as la\n",
    "from time import perf_counter as pc\n",
    "from sklearn.decomposition import NMF"
   ]
  },
  {
   "cell_type": "markdown",
   "id": "7c5aac2c",
   "metadata": {},
   "source": [
    "# Load Data"
   ]
  },
  {
   "cell_type": "code",
   "execution_count": 2,
   "id": "c9f20ea0",
   "metadata": {},
   "outputs": [],
   "source": [
    "df = pd.read_csv(\"../data/user_movie_40k.csv\", header=None)\n",
    "df = df.rename(columns={0: 'user_id', 1: 'movie_title', 2: 'year', 3: 'movie_id'})\n",
    "\n",
    "movies = pd.read_csv(\"../data/movies_40k.csv\")"
   ]
  },
  {
   "cell_type": "code",
   "execution_count": 3,
   "id": "43f57c5d",
   "metadata": {},
   "outputs": [
    {
     "data": {
      "text/plain": [
       "(42033, 4)"
      ]
     },
     "execution_count": 3,
     "metadata": {},
     "output_type": "execute_result"
    }
   ],
   "source": [
    "df.shape"
   ]
  },
  {
   "cell_type": "code",
   "execution_count": 4,
   "id": "4c95ba78",
   "metadata": {},
   "outputs": [],
   "source": [
    " def matrix_data(df):\n",
    "    dfr = df.pivot_table(index='user_id', columns='movie_id').fillna(0)\n",
    "    X = dfr.to_numpy().astype(int)\n",
    "    return X"
   ]
  },
  {
   "cell_type": "code",
   "execution_count": 5,
   "id": "1d5665fc",
   "metadata": {},
   "outputs": [],
   "source": [
    "X = matrix_data(df)\n",
    "X_sparse = sp.coo_matrix(X)"
   ]
  },
  {
   "cell_type": "code",
   "execution_count": 41,
   "id": "1240bd5d",
   "metadata": {},
   "outputs": [
    {
     "data": {
      "text/plain": [
       "(3286, 4948)"
      ]
     },
     "execution_count": 41,
     "metadata": {},
     "output_type": "execute_result"
    }
   ],
   "source": [
    "X.shape"
   ]
  },
  {
   "cell_type": "markdown",
   "id": "c5e4d398",
   "metadata": {},
   "source": [
    "# Scikit-learn NMF\n",
    "Non-negative matrix factorization. https://scikit-learn.org/stable/modules/generated/sklearn.decomposition.NMF.html"
   ]
  },
  {
   "cell_type": "code",
   "execution_count": 70,
   "id": "a7225140",
   "metadata": {},
   "outputs": [],
   "source": [
    "def prediction(X_sparse, U, V):\n",
    "    X_mask = (X_sparse!=0).multiply(np.ones(X_sparse.shape)).toarray()\n",
    "    X_mask = np.ones(X_sparse.shape) - X_mask\n",
    "    X_pred = X_mask * (U @ V)\n",
    "    return X_pred\n",
    "\n",
    "def recommend(X_pred, user_id, N=10):\n",
    "    X_user = X_pred[user_id,:]\n",
    "    ids = np.argpartition(X_user, -N)[-N:]\n",
    "    ids = ids[np.argsort(X_user[ids])][::-1]\n",
    "    scores = X_user[ids]\n",
    "    return ids, scores"
   ]
  },
  {
   "cell_type": "code",
   "execution_count": 62,
   "id": "0fa58ca8",
   "metadata": {},
   "outputs": [
    {
     "name": "stdout",
     "output_type": "stream",
     "text": [
      "violation: 1.0\n",
      "violation: 0.14462126351626187\n",
      "violation: 0.08494279570935867\n",
      "violation: 0.03807603029699105\n",
      "violation: 0.018192296749403748\n",
      "violation: 0.009474872395966063\n",
      "violation: 0.005327998977052398\n",
      "violation: 0.0033021225769176397\n",
      "violation: 0.0021987584586655477\n",
      "violation: 0.0015352410555469433\n",
      "violation: 0.0011097853619402875\n",
      "violation: 0.0008228180656657295\n",
      "violation: 0.0006247112184840441\n",
      "violation: 0.00048471992677806655\n",
      "violation: 0.0003854554847995767\n",
      "violation: 0.00031183826062510287\n",
      "violation: 0.0002570658621648219\n",
      "violation: 0.0002155651056971088\n",
      "violation: 0.00018202879184183124\n",
      "violation: 0.00015551303729543795\n",
      "violation: 0.0001334125588016438\n",
      "violation: 0.00011238324549857223\n",
      "violation: 9.51965851377968e-05\n",
      "Converged at iteration 24\n",
      "Used (secs):  4725.864551000001\n",
      "3078.700401406589\n",
      "23\n"
     ]
    }
   ],
   "source": [
    "model = NMF(init='random', random_state=0, verbose=True)\n",
    "\n",
    "start_time = pc()\n",
    "W = model.fit_transform(X_sparse)\n",
    "H = model.components_\n",
    "end_time = pc()\n",
    "\n",
    "print('Used (secs): ', end_time - start_time)\n",
    "print(model.reconstruction_err_)\n",
    "print(model.n_iter_)"
   ]
  },
  {
   "cell_type": "code",
   "execution_count": 63,
   "id": "f79f0821",
   "metadata": {},
   "outputs": [],
   "source": [
    "with open('nmf_w.npy', 'wb') as f:\n",
    "    np.save(f, W)\n",
    "\n",
    "with open('nmf_h.npy', 'wb') as f:\n",
    "    np.save(f, H)"
   ]
  },
  {
   "cell_type": "code",
   "execution_count": 50,
   "id": "086dff0e",
   "metadata": {},
   "outputs": [],
   "source": [
    "W = np.load('nmf_w.npy')\n",
    "H = np.load('nmf_h.npy')"
   ]
  },
  {
   "cell_type": "code",
   "execution_count": 61,
   "id": "01e3f064",
   "metadata": {},
   "outputs": [],
   "source": [
    "X_pred = prediction(X_sparse, W, H)"
   ]
  },
  {
   "cell_type": "code",
   "execution_count": 66,
   "id": "0ce43068",
   "metadata": {},
   "outputs": [],
   "source": [
    "X_csr = X_sparse.tocsr()"
   ]
  },
  {
   "cell_type": "code",
   "execution_count": 72,
   "id": "ce7d1a9a",
   "metadata": {},
   "outputs": [
    {
     "data": {
      "text/html": [
       "<div>\n",
       "<style scoped>\n",
       "    .dataframe tbody tr th:only-of-type {\n",
       "        vertical-align: middle;\n",
       "    }\n",
       "\n",
       "    .dataframe tbody tr th {\n",
       "        vertical-align: top;\n",
       "    }\n",
       "\n",
       "    .dataframe thead th {\n",
       "        text-align: right;\n",
       "    }\n",
       "</style>\n",
       "<table border=\"1\" class=\"dataframe\">\n",
       "  <thead>\n",
       "    <tr style=\"text-align: right;\">\n",
       "      <th></th>\n",
       "      <th>movies</th>\n",
       "      <th>score</th>\n",
       "      <th>already_liked</th>\n",
       "    </tr>\n",
       "  </thead>\n",
       "  <tbody>\n",
       "    <tr>\n",
       "      <th>3524</th>\n",
       "      <td>the+bonfire+of+the+vanities+1990</td>\n",
       "      <td>6.877800</td>\n",
       "      <td>False</td>\n",
       "    </tr>\n",
       "    <tr>\n",
       "      <th>2802</th>\n",
       "      <td>fellinis+casanova+1976</td>\n",
       "      <td>2.558316</td>\n",
       "      <td>False</td>\n",
       "    </tr>\n",
       "    <tr>\n",
       "      <th>4710</th>\n",
       "      <td>night+falls+on+manhattan+1996</td>\n",
       "      <td>2.337484</td>\n",
       "      <td>False</td>\n",
       "    </tr>\n",
       "    <tr>\n",
       "      <th>2020</th>\n",
       "      <td>southland+tales+2006</td>\n",
       "      <td>2.312190</td>\n",
       "      <td>False</td>\n",
       "    </tr>\n",
       "    <tr>\n",
       "      <th>134</th>\n",
       "      <td>the+wizard+of+oz+1939</td>\n",
       "      <td>2.075056</td>\n",
       "      <td>False</td>\n",
       "    </tr>\n",
       "    <tr>\n",
       "      <th>930</th>\n",
       "      <td>the+english+patient+1996</td>\n",
       "      <td>1.888421</td>\n",
       "      <td>False</td>\n",
       "    </tr>\n",
       "    <tr>\n",
       "      <th>3463</th>\n",
       "      <td>all+about+my+mother+1999</td>\n",
       "      <td>1.851044</td>\n",
       "      <td>False</td>\n",
       "    </tr>\n",
       "    <tr>\n",
       "      <th>3119</th>\n",
       "      <td>orange+county+2002</td>\n",
       "      <td>1.806287</td>\n",
       "      <td>False</td>\n",
       "    </tr>\n",
       "    <tr>\n",
       "      <th>3603</th>\n",
       "      <td>dawn+of+the+planet+of+the+apes+2014</td>\n",
       "      <td>1.688230</td>\n",
       "      <td>False</td>\n",
       "    </tr>\n",
       "    <tr>\n",
       "      <th>4191</th>\n",
       "      <td>a+walk+to+remember+2002</td>\n",
       "      <td>1.681692</td>\n",
       "      <td>False</td>\n",
       "    </tr>\n",
       "    <tr>\n",
       "      <th>2138</th>\n",
       "      <td>true+grit+1969</td>\n",
       "      <td>1.603472</td>\n",
       "      <td>False</td>\n",
       "    </tr>\n",
       "    <tr>\n",
       "      <th>2919</th>\n",
       "      <td>the+aviator+2004</td>\n",
       "      <td>1.570694</td>\n",
       "      <td>False</td>\n",
       "    </tr>\n",
       "    <tr>\n",
       "      <th>3100</th>\n",
       "      <td>jane+eyre+2011</td>\n",
       "      <td>1.559656</td>\n",
       "      <td>False</td>\n",
       "    </tr>\n",
       "    <tr>\n",
       "      <th>1458</th>\n",
       "      <td>lock_+stock+and+two+smoking+barrels+1998</td>\n",
       "      <td>1.479520</td>\n",
       "      <td>False</td>\n",
       "    </tr>\n",
       "    <tr>\n",
       "      <th>4847</th>\n",
       "      <td>judgment+night+1993</td>\n",
       "      <td>1.364211</td>\n",
       "      <td>False</td>\n",
       "    </tr>\n",
       "    <tr>\n",
       "      <th>747</th>\n",
       "      <td>buffalo+66+1998</td>\n",
       "      <td>1.176640</td>\n",
       "      <td>False</td>\n",
       "    </tr>\n",
       "    <tr>\n",
       "      <th>1900</th>\n",
       "      <td>dirty+pretty+things+2002</td>\n",
       "      <td>1.145664</td>\n",
       "      <td>False</td>\n",
       "    </tr>\n",
       "    <tr>\n",
       "      <th>4720</th>\n",
       "      <td>the+vanishing+1988</td>\n",
       "      <td>1.088850</td>\n",
       "      <td>False</td>\n",
       "    </tr>\n",
       "    <tr>\n",
       "      <th>2851</th>\n",
       "      <td>stiff+upper+lips+1998</td>\n",
       "      <td>1.042322</td>\n",
       "      <td>False</td>\n",
       "    </tr>\n",
       "    <tr>\n",
       "      <th>3043</th>\n",
       "      <td>secondhand+lions+2003</td>\n",
       "      <td>0.865154</td>\n",
       "      <td>False</td>\n",
       "    </tr>\n",
       "  </tbody>\n",
       "</table>\n",
       "</div>"
      ],
      "text/plain": [
       "                                        movies     score  already_liked\n",
       "3524          the+bonfire+of+the+vanities+1990  6.877800          False\n",
       "2802                    fellinis+casanova+1976  2.558316          False\n",
       "4710             night+falls+on+manhattan+1996  2.337484          False\n",
       "2020                      southland+tales+2006  2.312190          False\n",
       "134                      the+wizard+of+oz+1939  2.075056          False\n",
       "930                   the+english+patient+1996  1.888421          False\n",
       "3463                  all+about+my+mother+1999  1.851044          False\n",
       "3119                        orange+county+2002  1.806287          False\n",
       "3603       dawn+of+the+planet+of+the+apes+2014  1.688230          False\n",
       "4191                   a+walk+to+remember+2002  1.681692          False\n",
       "2138                            true+grit+1969  1.603472          False\n",
       "2919                          the+aviator+2004  1.570694          False\n",
       "3100                            jane+eyre+2011  1.559656          False\n",
       "1458  lock_+stock+and+two+smoking+barrels+1998  1.479520          False\n",
       "4847                       judgment+night+1993  1.364211          False\n",
       "747                            buffalo+66+1998  1.176640          False\n",
       "1900                  dirty+pretty+things+2002  1.145664          False\n",
       "4720                        the+vanishing+1988  1.088850          False\n",
       "2851                     stiff+upper+lips+1998  1.042322          False\n",
       "3043                     secondhand+lions+2003  0.865154          False"
      ]
     },
     "execution_count": 72,
     "metadata": {},
     "output_type": "execute_result"
    }
   ],
   "source": [
    "userid = 1\n",
    "ids, scores = recommend(X_pred, userid, N=20)\n",
    "pd.DataFrame({\"movies\": movies.loc[ids]['movieid'], \"score\": scores, \"already_liked\": np.in1d(ids, X_csr[userid].indices)})"
   ]
  },
  {
   "cell_type": "code",
   "execution_count": 88,
   "id": "cb8b7708",
   "metadata": {},
   "outputs": [
    {
     "data": {
      "text/html": [
       "<div>\n",
       "<style scoped>\n",
       "    .dataframe tbody tr th:only-of-type {\n",
       "        vertical-align: middle;\n",
       "    }\n",
       "\n",
       "    .dataframe tbody tr th {\n",
       "        vertical-align: top;\n",
       "    }\n",
       "\n",
       "    .dataframe thead th {\n",
       "        text-align: right;\n",
       "    }\n",
       "</style>\n",
       "<table border=\"1\" class=\"dataframe\">\n",
       "  <thead>\n",
       "    <tr style=\"text-align: right;\">\n",
       "      <th></th>\n",
       "      <th>movies</th>\n",
       "      <th>score</th>\n",
       "      <th>already_liked</th>\n",
       "    </tr>\n",
       "  </thead>\n",
       "  <tbody>\n",
       "    <tr>\n",
       "      <th>1574</th>\n",
       "      <td>sleeper+1973</td>\n",
       "      <td>5.871484</td>\n",
       "      <td>False</td>\n",
       "    </tr>\n",
       "    <tr>\n",
       "      <th>1615</th>\n",
       "      <td>rules+of+engagement+2000</td>\n",
       "      <td>1.442161</td>\n",
       "      <td>False</td>\n",
       "    </tr>\n",
       "    <tr>\n",
       "      <th>1076</th>\n",
       "      <td>arsenic+and+old+lace+1944</td>\n",
       "      <td>1.026592</td>\n",
       "      <td>False</td>\n",
       "    </tr>\n",
       "    <tr>\n",
       "      <th>4011</th>\n",
       "      <td>im+all+right+jack+1959</td>\n",
       "      <td>1.008805</td>\n",
       "      <td>False</td>\n",
       "    </tr>\n",
       "    <tr>\n",
       "      <th>3882</th>\n",
       "      <td>kung+fu+panda+holiday+2010</td>\n",
       "      <td>0.836257</td>\n",
       "      <td>False</td>\n",
       "    </tr>\n",
       "    <tr>\n",
       "      <th>3182</th>\n",
       "      <td>major+league+back+to+the+minors+1998</td>\n",
       "      <td>0.756551</td>\n",
       "      <td>False</td>\n",
       "    </tr>\n",
       "    <tr>\n",
       "      <th>3133</th>\n",
       "      <td>things+to+do+in+denver+when+youre+dead+1995</td>\n",
       "      <td>0.343658</td>\n",
       "      <td>False</td>\n",
       "    </tr>\n",
       "    <tr>\n",
       "      <th>2507</th>\n",
       "      <td>man+of+the+house+1995</td>\n",
       "      <td>0.288278</td>\n",
       "      <td>False</td>\n",
       "    </tr>\n",
       "    <tr>\n",
       "      <th>4639</th>\n",
       "      <td>dreamscape+1984</td>\n",
       "      <td>0.247385</td>\n",
       "      <td>False</td>\n",
       "    </tr>\n",
       "    <tr>\n",
       "      <th>2514</th>\n",
       "      <td>pollyanna+1960</td>\n",
       "      <td>0.224254</td>\n",
       "      <td>False</td>\n",
       "    </tr>\n",
       "    <tr>\n",
       "      <th>4481</th>\n",
       "      <td>war+horse+2011</td>\n",
       "      <td>0.204531</td>\n",
       "      <td>False</td>\n",
       "    </tr>\n",
       "    <tr>\n",
       "      <th>2858</th>\n",
       "      <td>the+lake+house+2006</td>\n",
       "      <td>0.169205</td>\n",
       "      <td>False</td>\n",
       "    </tr>\n",
       "    <tr>\n",
       "      <th>79</th>\n",
       "      <td>die+another+day+2002</td>\n",
       "      <td>0.140209</td>\n",
       "      <td>False</td>\n",
       "    </tr>\n",
       "    <tr>\n",
       "      <th>4292</th>\n",
       "      <td>lavventura+1960</td>\n",
       "      <td>0.125002</td>\n",
       "      <td>False</td>\n",
       "    </tr>\n",
       "    <tr>\n",
       "      <th>896</th>\n",
       "      <td>stardust+2007</td>\n",
       "      <td>0.121046</td>\n",
       "      <td>False</td>\n",
       "    </tr>\n",
       "    <tr>\n",
       "      <th>869</th>\n",
       "      <td>holes+2003</td>\n",
       "      <td>0.118990</td>\n",
       "      <td>False</td>\n",
       "    </tr>\n",
       "    <tr>\n",
       "      <th>530</th>\n",
       "      <td>allan+quatermain+and+the+lost+city+of+gold+1986</td>\n",
       "      <td>0.118002</td>\n",
       "      <td>False</td>\n",
       "    </tr>\n",
       "    <tr>\n",
       "      <th>1210</th>\n",
       "      <td>bound+by+honor+1993</td>\n",
       "      <td>0.116521</td>\n",
       "      <td>False</td>\n",
       "    </tr>\n",
       "    <tr>\n",
       "      <th>3660</th>\n",
       "      <td>irma+la+douce+1963</td>\n",
       "      <td>0.114889</td>\n",
       "      <td>False</td>\n",
       "    </tr>\n",
       "    <tr>\n",
       "      <th>2604</th>\n",
       "      <td>the+road+to+guantanamo+2006</td>\n",
       "      <td>0.103274</td>\n",
       "      <td>False</td>\n",
       "    </tr>\n",
       "  </tbody>\n",
       "</table>\n",
       "</div>"
      ],
      "text/plain": [
       "                                               movies     score  already_liked\n",
       "1574                                     sleeper+1973  5.871484          False\n",
       "1615                         rules+of+engagement+2000  1.442161          False\n",
       "1076                        arsenic+and+old+lace+1944  1.026592          False\n",
       "4011                           im+all+right+jack+1959  1.008805          False\n",
       "3882                       kung+fu+panda+holiday+2010  0.836257          False\n",
       "3182             major+league+back+to+the+minors+1998  0.756551          False\n",
       "3133      things+to+do+in+denver+when+youre+dead+1995  0.343658          False\n",
       "2507                            man+of+the+house+1995  0.288278          False\n",
       "4639                                  dreamscape+1984  0.247385          False\n",
       "2514                                   pollyanna+1960  0.224254          False\n",
       "4481                                   war+horse+2011  0.204531          False\n",
       "2858                              the+lake+house+2006  0.169205          False\n",
       "79                               die+another+day+2002  0.140209          False\n",
       "4292                                  lavventura+1960  0.125002          False\n",
       "896                                     stardust+2007  0.121046          False\n",
       "869                                        holes+2003  0.118990          False\n",
       "530   allan+quatermain+and+the+lost+city+of+gold+1986  0.118002          False\n",
       "1210                              bound+by+honor+1993  0.116521          False\n",
       "3660                               irma+la+douce+1963  0.114889          False\n",
       "2604                      the+road+to+guantanamo+2006  0.103274          False"
      ]
     },
     "execution_count": 88,
     "metadata": {},
     "output_type": "execute_result"
    }
   ],
   "source": [
    "userid=123\n",
    "ids, scores = recommend(X_pred, userid, N=20)\n",
    "pd.DataFrame({\"movies\": movies.loc[ids]['movieid'], \"score\": scores, \"already_liked\": np.in1d(ids, X_csr[userid].indices)})"
   ]
  },
  {
   "cell_type": "markdown",
   "id": "15b5f60d",
   "metadata": {},
   "source": [
    "# LigtFM\n",
    "https://github.com/lyst/lightfm"
   ]
  },
  {
   "cell_type": "markdown",
   "id": "1ec0c541",
   "metadata": {},
   "source": [
    "## Using sample data\n",
    "MovieLens dataset"
   ]
  },
  {
   "cell_type": "code",
   "execution_count": 4,
   "id": "ff796570",
   "metadata": {},
   "outputs": [],
   "source": [
    "from lightfm import LightFM\n",
    "from lightfm.datasets import fetch_movielens\n",
    "from lightfm.evaluation import precision_at_k"
   ]
  },
  {
   "cell_type": "code",
   "execution_count": 92,
   "id": "0d2e7336",
   "metadata": {},
   "outputs": [],
   "source": [
    "# Load the MovieLens 100k dataset. Only five\n",
    "# star ratings are treated as positive.\n",
    "data = fetch_movielens(min_rating=5.0)\n",
    "\n",
    "# Instantiate and train the model\n",
    "model_lfm = LightFM(loss='warp')\n",
    "model_lfm.fit(data['train'], epochs=30, num_threads=2)\n",
    "\n",
    "# Evaluate the trained model\n",
    "test_precision = precision_at_k(model_lfm, data['test'], k=5).mean()"
   ]
  },
  {
   "cell_type": "code",
   "execution_count": 6,
   "id": "405a1403",
   "metadata": {},
   "outputs": [
    {
     "data": {
      "text/plain": [
       "{'train': <943x1682 sparse matrix of type '<class 'numpy.float32'>'\n",
       " \twith 19048 stored elements in COOrdinate format>,\n",
       " 'test': <943x1682 sparse matrix of type '<class 'numpy.int32'>'\n",
       " \twith 2153 stored elements in COOrdinate format>,\n",
       " 'item_features': <1682x1682 sparse matrix of type '<class 'numpy.float32'>'\n",
       " \twith 1682 stored elements in Compressed Sparse Row format>,\n",
       " 'item_feature_labels': array(['Toy Story (1995)', 'GoldenEye (1995)', 'Four Rooms (1995)', ...,\n",
       "        'Sliding Doors (1998)', 'You So Crazy (1994)',\n",
       "        'Scream of Stone (Schrei aus Stein) (1991)'], dtype=object),\n",
       " 'item_labels': array(['Toy Story (1995)', 'GoldenEye (1995)', 'Four Rooms (1995)', ...,\n",
       "        'Sliding Doors (1998)', 'You So Crazy (1994)',\n",
       "        'Scream of Stone (Schrei aus Stein) (1991)'], dtype=object)}"
      ]
     },
     "execution_count": 6,
     "metadata": {},
     "output_type": "execute_result"
    }
   ],
   "source": [
    "data"
   ]
  },
  {
   "cell_type": "code",
   "execution_count": 93,
   "id": "1c2313b3",
   "metadata": {},
   "outputs": [
    {
     "data": {
      "text/plain": [
       "<lightfm.lightfm.LightFM at 0x7f86762ebac0>"
      ]
     },
     "execution_count": 93,
     "metadata": {},
     "output_type": "execute_result"
    }
   ],
   "source": [
    "model_lfm"
   ]
  },
  {
   "cell_type": "code",
   "execution_count": 8,
   "id": "90c5a566",
   "metadata": {},
   "outputs": [
    {
     "data": {
      "text/plain": [
       "0.052311756"
      ]
     },
     "execution_count": 8,
     "metadata": {},
     "output_type": "execute_result"
    }
   ],
   "source": [
    "test_precision"
   ]
  },
  {
   "cell_type": "code",
   "execution_count": 101,
   "id": "dc7d3342",
   "metadata": {},
   "outputs": [
    {
     "data": {
      "text/plain": [
       "943"
      ]
     },
     "execution_count": 101,
     "metadata": {},
     "output_type": "execute_result"
    }
   ],
   "source": [
    "len(model_lfm.get_user_representations()[0])"
   ]
  },
  {
   "cell_type": "code",
   "execution_count": 102,
   "id": "c5a56ae0",
   "metadata": {},
   "outputs": [
    {
     "data": {
      "text/plain": [
       "1682"
      ]
     },
     "execution_count": 102,
     "metadata": {},
     "output_type": "execute_result"
    }
   ],
   "source": [
    "len(model_lfm.get_item_representations()[0])"
   ]
  },
  {
   "cell_type": "code",
   "execution_count": 103,
   "id": "b5e0eede",
   "metadata": {},
   "outputs": [],
   "source": [
    "def recommend_lfm(model, user_id, N=10):\n",
    "    X_user = model.predict(user_id, np.arange(data['item_features'].shape[0]))\n",
    "    ids = np.argpartition(X_user, -N)[-N:]\n",
    "    ids = ids[np.argsort(X_user[ids])][::-1]\n",
    "    scores = X_user[ids]\n",
    "    return ids, scores"
   ]
  },
  {
   "cell_type": "code",
   "execution_count": 107,
   "id": "f0d7b153",
   "metadata": {},
   "outputs": [],
   "source": [
    "userid = 1\n",
    "ids, scores = recommend_lfm(model_lfm, userid)"
   ]
  },
  {
   "cell_type": "code",
   "execution_count": 110,
   "id": "46828c1e",
   "metadata": {},
   "outputs": [
    {
     "data": {
      "text/html": [
       "<div>\n",
       "<style scoped>\n",
       "    .dataframe tbody tr th:only-of-type {\n",
       "        vertical-align: middle;\n",
       "    }\n",
       "\n",
       "    .dataframe tbody tr th {\n",
       "        vertical-align: top;\n",
       "    }\n",
       "\n",
       "    .dataframe thead th {\n",
       "        text-align: right;\n",
       "    }\n",
       "</style>\n",
       "<table border=\"1\" class=\"dataframe\">\n",
       "  <thead>\n",
       "    <tr style=\"text-align: right;\">\n",
       "      <th></th>\n",
       "      <th>movies</th>\n",
       "      <th>score</th>\n",
       "    </tr>\n",
       "  </thead>\n",
       "  <tbody>\n",
       "    <tr>\n",
       "      <th>0</th>\n",
       "      <td>English Patient, The (1996)</td>\n",
       "      <td>2.164846</td>\n",
       "    </tr>\n",
       "    <tr>\n",
       "      <th>1</th>\n",
       "      <td>Full Monty, The (1997)</td>\n",
       "      <td>1.530353</td>\n",
       "    </tr>\n",
       "    <tr>\n",
       "      <th>2</th>\n",
       "      <td>Fargo (1996)</td>\n",
       "      <td>1.386078</td>\n",
       "    </tr>\n",
       "    <tr>\n",
       "      <th>3</th>\n",
       "      <td>Leaving Las Vegas (1995)</td>\n",
       "      <td>1.327225</td>\n",
       "    </tr>\n",
       "    <tr>\n",
       "      <th>4</th>\n",
       "      <td>L.A. Confidential (1997)</td>\n",
       "      <td>1.278503</td>\n",
       "    </tr>\n",
       "    <tr>\n",
       "      <th>5</th>\n",
       "      <td>Postino, Il (1994)</td>\n",
       "      <td>1.272340</td>\n",
       "    </tr>\n",
       "    <tr>\n",
       "      <th>6</th>\n",
       "      <td>Secrets &amp; Lies (1996)</td>\n",
       "      <td>1.269994</td>\n",
       "    </tr>\n",
       "    <tr>\n",
       "      <th>7</th>\n",
       "      <td>Contact (1997)</td>\n",
       "      <td>1.249399</td>\n",
       "    </tr>\n",
       "    <tr>\n",
       "      <th>8</th>\n",
       "      <td>Chasing Amy (1997)</td>\n",
       "      <td>1.149080</td>\n",
       "    </tr>\n",
       "    <tr>\n",
       "      <th>9</th>\n",
       "      <td>Titanic (1997)</td>\n",
       "      <td>1.148281</td>\n",
       "    </tr>\n",
       "  </tbody>\n",
       "</table>\n",
       "</div>"
      ],
      "text/plain": [
       "                        movies     score\n",
       "0  English Patient, The (1996)  2.164846\n",
       "1       Full Monty, The (1997)  1.530353\n",
       "2                 Fargo (1996)  1.386078\n",
       "3     Leaving Las Vegas (1995)  1.327225\n",
       "4     L.A. Confidential (1997)  1.278503\n",
       "5           Postino, Il (1994)  1.272340\n",
       "6        Secrets & Lies (1996)  1.269994\n",
       "7               Contact (1997)  1.249399\n",
       "8           Chasing Amy (1997)  1.149080\n",
       "9               Titanic (1997)  1.148281"
      ]
     },
     "execution_count": 110,
     "metadata": {},
     "output_type": "execute_result"
    }
   ],
   "source": [
    "pd.DataFrame({\"movies\": data['item_feature_labels'][ids], \"score\": scores})"
   ]
  },
  {
   "cell_type": "markdown",
   "id": "1b263cef",
   "metadata": {},
   "source": [
    "## Using our data"
   ]
  },
  {
   "cell_type": "code",
   "execution_count": 111,
   "id": "a40897c0",
   "metadata": {},
   "outputs": [
    {
     "data": {
      "text/plain": [
       "<lightfm.lightfm.LightFM at 0x7f86301e65e0>"
      ]
     },
     "execution_count": 111,
     "metadata": {},
     "output_type": "execute_result"
    }
   ],
   "source": [
    "model_mylfm = LightFM(loss='warp')\n",
    "model_mylfm.fit(X_sparse, epochs=30, num_threads=2)"
   ]
  },
  {
   "cell_type": "code",
   "execution_count": 113,
   "id": "de62256c",
   "metadata": {},
   "outputs": [
    {
     "data": {
      "text/html": [
       "<div>\n",
       "<style scoped>\n",
       "    .dataframe tbody tr th:only-of-type {\n",
       "        vertical-align: middle;\n",
       "    }\n",
       "\n",
       "    .dataframe tbody tr th {\n",
       "        vertical-align: top;\n",
       "    }\n",
       "\n",
       "    .dataframe thead th {\n",
       "        text-align: right;\n",
       "    }\n",
       "</style>\n",
       "<table border=\"1\" class=\"dataframe\">\n",
       "  <thead>\n",
       "    <tr style=\"text-align: right;\">\n",
       "      <th></th>\n",
       "      <th>movies</th>\n",
       "      <th>score</th>\n",
       "      <th>already_liked</th>\n",
       "    </tr>\n",
       "  </thead>\n",
       "  <tbody>\n",
       "    <tr>\n",
       "      <th>263</th>\n",
       "      <td>blade+runner+1982</td>\n",
       "      <td>1.727342</td>\n",
       "      <td>False</td>\n",
       "    </tr>\n",
       "    <tr>\n",
       "      <th>1287</th>\n",
       "      <td>st.+elmos+fire+1985</td>\n",
       "      <td>1.451966</td>\n",
       "      <td>False</td>\n",
       "    </tr>\n",
       "    <tr>\n",
       "      <th>269</th>\n",
       "      <td>fantasia+2000+1999</td>\n",
       "      <td>1.351043</td>\n",
       "      <td>False</td>\n",
       "    </tr>\n",
       "    <tr>\n",
       "      <th>1615</th>\n",
       "      <td>rules+of+engagement+2000</td>\n",
       "      <td>1.195428</td>\n",
       "      <td>False</td>\n",
       "    </tr>\n",
       "    <tr>\n",
       "      <th>1545</th>\n",
       "      <td>my+son+the+fanatic+1997</td>\n",
       "      <td>1.140657</td>\n",
       "      <td>False</td>\n",
       "    </tr>\n",
       "    <tr>\n",
       "      <th>644</th>\n",
       "      <td>the+bridge+on+the+river+kwai+1957</td>\n",
       "      <td>1.095225</td>\n",
       "      <td>False</td>\n",
       "    </tr>\n",
       "    <tr>\n",
       "      <th>1149</th>\n",
       "      <td>universal+soldier+1992</td>\n",
       "      <td>1.050794</td>\n",
       "      <td>False</td>\n",
       "    </tr>\n",
       "    <tr>\n",
       "      <th>364</th>\n",
       "      <td>mrs+brown+1997</td>\n",
       "      <td>1.035769</td>\n",
       "      <td>False</td>\n",
       "    </tr>\n",
       "    <tr>\n",
       "      <th>1109</th>\n",
       "      <td>12+2007</td>\n",
       "      <td>0.981934</td>\n",
       "      <td>False</td>\n",
       "    </tr>\n",
       "    <tr>\n",
       "      <th>1320</th>\n",
       "      <td>a+fistful+of+dollars+1964</td>\n",
       "      <td>0.952321</td>\n",
       "      <td>False</td>\n",
       "    </tr>\n",
       "    <tr>\n",
       "      <th>343</th>\n",
       "      <td>deep+rising+1998</td>\n",
       "      <td>0.936821</td>\n",
       "      <td>False</td>\n",
       "    </tr>\n",
       "    <tr>\n",
       "      <th>577</th>\n",
       "      <td>random+hearts+1999</td>\n",
       "      <td>0.924141</td>\n",
       "      <td>False</td>\n",
       "    </tr>\n",
       "    <tr>\n",
       "      <th>29</th>\n",
       "      <td>anne+frank+remembered+1995</td>\n",
       "      <td>0.899387</td>\n",
       "      <td>False</td>\n",
       "    </tr>\n",
       "    <tr>\n",
       "      <th>881</th>\n",
       "      <td>sleepy+hollow+1999</td>\n",
       "      <td>0.883465</td>\n",
       "      <td>False</td>\n",
       "    </tr>\n",
       "    <tr>\n",
       "      <th>1045</th>\n",
       "      <td>the+ghost+and+mrs.+muir+1947</td>\n",
       "      <td>0.853325</td>\n",
       "      <td>False</td>\n",
       "    </tr>\n",
       "    <tr>\n",
       "      <th>230</th>\n",
       "      <td>the+blues+brothers+1980</td>\n",
       "      <td>0.833528</td>\n",
       "      <td>False</td>\n",
       "    </tr>\n",
       "    <tr>\n",
       "      <th>1509</th>\n",
       "      <td>hoop+dreams+1994</td>\n",
       "      <td>0.820032</td>\n",
       "      <td>False</td>\n",
       "    </tr>\n",
       "    <tr>\n",
       "      <th>1655</th>\n",
       "      <td>21+jump+street+2012</td>\n",
       "      <td>0.803485</td>\n",
       "      <td>False</td>\n",
       "    </tr>\n",
       "    <tr>\n",
       "      <th>84</th>\n",
       "      <td>rabbit-proof+fence+2002</td>\n",
       "      <td>0.788620</td>\n",
       "      <td>False</td>\n",
       "    </tr>\n",
       "    <tr>\n",
       "      <th>803</th>\n",
       "      <td>the+last+king+of+scotland+2006</td>\n",
       "      <td>0.786925</td>\n",
       "      <td>False</td>\n",
       "    </tr>\n",
       "  </tbody>\n",
       "</table>\n",
       "</div>"
      ],
      "text/plain": [
       "                                 movies     score  already_liked\n",
       "263                   blade+runner+1982  1.727342          False\n",
       "1287                st.+elmos+fire+1985  1.451966          False\n",
       "269                  fantasia+2000+1999  1.351043          False\n",
       "1615           rules+of+engagement+2000  1.195428          False\n",
       "1545            my+son+the+fanatic+1997  1.140657          False\n",
       "644   the+bridge+on+the+river+kwai+1957  1.095225          False\n",
       "1149             universal+soldier+1992  1.050794          False\n",
       "364                      mrs+brown+1997  1.035769          False\n",
       "1109                            12+2007  0.981934          False\n",
       "1320          a+fistful+of+dollars+1964  0.952321          False\n",
       "343                    deep+rising+1998  0.936821          False\n",
       "577                  random+hearts+1999  0.924141          False\n",
       "29           anne+frank+remembered+1995  0.899387          False\n",
       "881                  sleepy+hollow+1999  0.883465          False\n",
       "1045       the+ghost+and+mrs.+muir+1947  0.853325          False\n",
       "230             the+blues+brothers+1980  0.833528          False\n",
       "1509                   hoop+dreams+1994  0.820032          False\n",
       "1655                21+jump+street+2012  0.803485          False\n",
       "84              rabbit-proof+fence+2002  0.788620          False\n",
       "803      the+last+king+of+scotland+2006  0.786925          False"
      ]
     },
     "execution_count": 113,
     "metadata": {},
     "output_type": "execute_result"
    }
   ],
   "source": [
    "userid = 1\n",
    "ids, scores = recommend_lfm(model_mylfm, userid, N=20)\n",
    "pd.DataFrame({\"movies\": movies.loc[ids]['movieid'], \"score\": scores, \"already_liked\": np.in1d(ids, X_csr[userid].indices)})"
   ]
  },
  {
   "cell_type": "code",
   "execution_count": 114,
   "id": "7b3764cf",
   "metadata": {},
   "outputs": [
    {
     "data": {
      "text/html": [
       "<div>\n",
       "<style scoped>\n",
       "    .dataframe tbody tr th:only-of-type {\n",
       "        vertical-align: middle;\n",
       "    }\n",
       "\n",
       "    .dataframe tbody tr th {\n",
       "        vertical-align: top;\n",
       "    }\n",
       "\n",
       "    .dataframe thead th {\n",
       "        text-align: right;\n",
       "    }\n",
       "</style>\n",
       "<table border=\"1\" class=\"dataframe\">\n",
       "  <thead>\n",
       "    <tr style=\"text-align: right;\">\n",
       "      <th></th>\n",
       "      <th>movies</th>\n",
       "      <th>score</th>\n",
       "      <th>already_liked</th>\n",
       "    </tr>\n",
       "  </thead>\n",
       "  <tbody>\n",
       "    <tr>\n",
       "      <th>679</th>\n",
       "      <td>johnny+mnemonic+1995</td>\n",
       "      <td>2.073541</td>\n",
       "      <td>False</td>\n",
       "    </tr>\n",
       "    <tr>\n",
       "      <th>1615</th>\n",
       "      <td>rules+of+engagement+2000</td>\n",
       "      <td>1.880858</td>\n",
       "      <td>False</td>\n",
       "    </tr>\n",
       "    <tr>\n",
       "      <th>1287</th>\n",
       "      <td>st.+elmos+fire+1985</td>\n",
       "      <td>1.880659</td>\n",
       "      <td>True</td>\n",
       "    </tr>\n",
       "    <tr>\n",
       "      <th>1210</th>\n",
       "      <td>bound+by+honor+1993</td>\n",
       "      <td>1.868272</td>\n",
       "      <td>False</td>\n",
       "    </tr>\n",
       "    <tr>\n",
       "      <th>1655</th>\n",
       "      <td>21+jump+street+2012</td>\n",
       "      <td>1.684915</td>\n",
       "      <td>False</td>\n",
       "    </tr>\n",
       "    <tr>\n",
       "      <th>987</th>\n",
       "      <td>the+bridges+of+madison+county+1995</td>\n",
       "      <td>1.610018</td>\n",
       "      <td>True</td>\n",
       "    </tr>\n",
       "    <tr>\n",
       "      <th>1574</th>\n",
       "      <td>sleeper+1973</td>\n",
       "      <td>1.538605</td>\n",
       "      <td>False</td>\n",
       "    </tr>\n",
       "    <tr>\n",
       "      <th>1101</th>\n",
       "      <td>a+little+princess+1995</td>\n",
       "      <td>1.503409</td>\n",
       "      <td>False</td>\n",
       "    </tr>\n",
       "    <tr>\n",
       "      <th>486</th>\n",
       "      <td>united+93+2006</td>\n",
       "      <td>1.447861</td>\n",
       "      <td>False</td>\n",
       "    </tr>\n",
       "    <tr>\n",
       "      <th>1303</th>\n",
       "      <td>the+killers+1946</td>\n",
       "      <td>1.363573</td>\n",
       "      <td>False</td>\n",
       "    </tr>\n",
       "    <tr>\n",
       "      <th>1381</th>\n",
       "      <td>transformers+2007</td>\n",
       "      <td>1.252879</td>\n",
       "      <td>False</td>\n",
       "    </tr>\n",
       "    <tr>\n",
       "      <th>1218</th>\n",
       "      <td>red+rock+west+1993</td>\n",
       "      <td>1.021794</td>\n",
       "      <td>False</td>\n",
       "    </tr>\n",
       "    <tr>\n",
       "      <th>1117</th>\n",
       "      <td>nell+1994</td>\n",
       "      <td>0.985643</td>\n",
       "      <td>False</td>\n",
       "    </tr>\n",
       "    <tr>\n",
       "      <th>1244</th>\n",
       "      <td>kick-ass+2010</td>\n",
       "      <td>0.979281</td>\n",
       "      <td>False</td>\n",
       "    </tr>\n",
       "    <tr>\n",
       "      <th>152</th>\n",
       "      <td>fargo+1996</td>\n",
       "      <td>0.971770</td>\n",
       "      <td>False</td>\n",
       "    </tr>\n",
       "    <tr>\n",
       "      <th>491</th>\n",
       "      <td>toy+story+2+1999</td>\n",
       "      <td>0.967023</td>\n",
       "      <td>False</td>\n",
       "    </tr>\n",
       "    <tr>\n",
       "      <th>558</th>\n",
       "      <td>the+iron+giant+1999</td>\n",
       "      <td>0.911049</td>\n",
       "      <td>True</td>\n",
       "    </tr>\n",
       "    <tr>\n",
       "      <th>1300</th>\n",
       "      <td>roman+polanski+wanted+and+desired+2008</td>\n",
       "      <td>0.888603</td>\n",
       "      <td>False</td>\n",
       "    </tr>\n",
       "    <tr>\n",
       "      <th>442</th>\n",
       "      <td>sleepers+1996</td>\n",
       "      <td>0.796431</td>\n",
       "      <td>False</td>\n",
       "    </tr>\n",
       "    <tr>\n",
       "      <th>203</th>\n",
       "      <td>the+princess+bride+1987</td>\n",
       "      <td>0.780831</td>\n",
       "      <td>False</td>\n",
       "    </tr>\n",
       "  </tbody>\n",
       "</table>\n",
       "</div>"
      ],
      "text/plain": [
       "                                      movies     score  already_liked\n",
       "679                     johnny+mnemonic+1995  2.073541          False\n",
       "1615                rules+of+engagement+2000  1.880858          False\n",
       "1287                     st.+elmos+fire+1985  1.880659           True\n",
       "1210                     bound+by+honor+1993  1.868272          False\n",
       "1655                     21+jump+street+2012  1.684915          False\n",
       "987       the+bridges+of+madison+county+1995  1.610018           True\n",
       "1574                            sleeper+1973  1.538605          False\n",
       "1101                  a+little+princess+1995  1.503409          False\n",
       "486                           united+93+2006  1.447861          False\n",
       "1303                        the+killers+1946  1.363573          False\n",
       "1381                       transformers+2007  1.252879          False\n",
       "1218                      red+rock+west+1993  1.021794          False\n",
       "1117                               nell+1994  0.985643          False\n",
       "1244                           kick-ass+2010  0.979281          False\n",
       "152                               fargo+1996  0.971770          False\n",
       "491                         toy+story+2+1999  0.967023          False\n",
       "558                      the+iron+giant+1999  0.911049           True\n",
       "1300  roman+polanski+wanted+and+desired+2008  0.888603          False\n",
       "442                            sleepers+1996  0.796431          False\n",
       "203                  the+princess+bride+1987  0.780831          False"
      ]
     },
     "execution_count": 114,
     "metadata": {},
     "output_type": "execute_result"
    }
   ],
   "source": [
    "userid = 123\n",
    "ids, scores = recommend_lfm(model_mylfm, userid, N=20)\n",
    "pd.DataFrame({\"movies\": movies.loc[ids]['movieid'], \"score\": scores, \"already_liked\": np.in1d(ids, X_csr[userid].indices)})"
   ]
  },
  {
   "cell_type": "markdown",
   "id": "2fe177a2",
   "metadata": {},
   "source": [
    "# Implicit\n",
    "https://github.com/benfred/implicit"
   ]
  },
  {
   "cell_type": "markdown",
   "id": "37b3932c",
   "metadata": {},
   "source": [
    "## Using sample data\n",
    "LastFM dataset"
   ]
  },
  {
   "cell_type": "code",
   "execution_count": 6,
   "id": "e29cc5ca",
   "metadata": {},
   "outputs": [],
   "source": [
    "from implicit.datasets.lastfm import get_lastfm\n",
    "\n",
    "artists, users, artist_user_plays = get_lastfm()"
   ]
  },
  {
   "cell_type": "code",
   "execution_count": 7,
   "id": "850fb395",
   "metadata": {},
   "outputs": [
    {
     "data": {
      "text/plain": [
       "(292385,)"
      ]
     },
     "execution_count": 7,
     "metadata": {},
     "output_type": "execute_result"
    }
   ],
   "source": [
    "artists.shape"
   ]
  },
  {
   "cell_type": "code",
   "execution_count": 25,
   "id": "9c544a1c",
   "metadata": {},
   "outputs": [
    {
     "data": {
      "text/plain": [
       "(358868,)"
      ]
     },
     "execution_count": 25,
     "metadata": {},
     "output_type": "execute_result"
    }
   ],
   "source": [
    "users.shape"
   ]
  },
  {
   "cell_type": "code",
   "execution_count": 26,
   "id": "e7ffc42b",
   "metadata": {},
   "outputs": [
    {
     "data": {
      "text/plain": [
       "(292385, 358868)"
      ]
     },
     "execution_count": 26,
     "metadata": {},
     "output_type": "execute_result"
    }
   ],
   "source": [
    "artist_user_plays.shape"
   ]
  },
  {
   "cell_type": "code",
   "execution_count": 9,
   "id": "0828c318",
   "metadata": {},
   "outputs": [
    {
     "data": {
      "text/plain": [
       "<292385x358868 sparse matrix of type '<class 'numpy.float32'>'\n",
       "\twith 17535606 stored elements in Compressed Sparse Row format>"
      ]
     },
     "execution_count": 9,
     "metadata": {},
     "output_type": "execute_result"
    }
   ],
   "source": [
    "artist_user_plays"
   ]
  },
  {
   "cell_type": "code",
   "execution_count": 10,
   "id": "2505edfb",
   "metadata": {},
   "outputs": [
    {
     "data": {
      "text/plain": [
       "3773558300.0"
      ]
     },
     "execution_count": 10,
     "metadata": {},
     "output_type": "execute_result"
    }
   ],
   "source": [
    "artist_user_plays.tocsr().sum()"
   ]
  },
  {
   "cell_type": "code",
   "execution_count": 14,
   "id": "8e341872",
   "metadata": {},
   "outputs": [],
   "source": [
    "from implicit.nearest_neighbours import bm25_weight\n",
    "\n",
    "# weight the matrix, both to reduce impact of users that have played the same artist thousands of times\n",
    "# and to reduce the weight given to popular items\n",
    "artist_user_plays = bm25_weight(artist_user_plays, K1=100, B=0.8)\n",
    "\n",
    "# get the transpose since the most of the functions in implicit expect (user, item) sparse matrices instead of (item, user)\n",
    "user_plays = artist_user_plays.T.tocsr()"
   ]
  },
  {
   "cell_type": "code",
   "execution_count": 15,
   "id": "7834f31b",
   "metadata": {},
   "outputs": [
    {
     "name": "stderr",
     "output_type": "stream",
     "text": [
      "/Users/venny/Documents/Courses/17-645/Assignments/group-project-f22-popcorntime/env/lib/python3.8/site-packages/implicit/utils.py:28: UserWarning: OpenBLAS detected. Its highly recommend to set the environment variable 'export OPENBLAS_NUM_THREADS=1' to disable its internal multithreading\n",
      "  warnings.warn(\n"
     ]
    },
    {
     "data": {
      "application/vnd.jupyter.widget-view+json": {
       "model_id": "67767ce2f132423a8b56274d7177e31f",
       "version_major": 2,
       "version_minor": 0
      },
      "text/plain": [
       "  0%|          | 0/15 [00:00<?, ?it/s]"
      ]
     },
     "metadata": {},
     "output_type": "display_data"
    }
   ],
   "source": [
    "from implicit.als import AlternatingLeastSquares\n",
    "\n",
    "model = AlternatingLeastSquares(factors=64, regularization=0.05, alpha=2.0)\n",
    "model.fit(user_plays)"
   ]
  },
  {
   "cell_type": "code",
   "execution_count": 16,
   "id": "63c28cb7",
   "metadata": {},
   "outputs": [],
   "source": [
    "# Get recommendations for the a single user\n",
    "userid = 12345\n",
    "ids, scores = model.recommend(userid, user_plays[userid], N=10, filter_already_liked_items=False)"
   ]
  },
  {
   "cell_type": "code",
   "execution_count": 20,
   "id": "20dbaed9",
   "metadata": {},
   "outputs": [
    {
     "data": {
      "text/html": [
       "<div>\n",
       "<style scoped>\n",
       "    .dataframe tbody tr th:only-of-type {\n",
       "        vertical-align: middle;\n",
       "    }\n",
       "\n",
       "    .dataframe tbody tr th {\n",
       "        vertical-align: top;\n",
       "    }\n",
       "\n",
       "    .dataframe thead th {\n",
       "        text-align: right;\n",
       "    }\n",
       "</style>\n",
       "<table border=\"1\" class=\"dataframe\">\n",
       "  <thead>\n",
       "    <tr style=\"text-align: right;\">\n",
       "      <th></th>\n",
       "      <th>artist</th>\n",
       "      <th>score</th>\n",
       "      <th>already_liked</th>\n",
       "    </tr>\n",
       "  </thead>\n",
       "  <tbody>\n",
       "    <tr>\n",
       "      <th>0</th>\n",
       "      <td>spiritual front</td>\n",
       "      <td>1.040421</td>\n",
       "      <td>False</td>\n",
       "    </tr>\n",
       "    <tr>\n",
       "      <th>1</th>\n",
       "      <td>puissance</td>\n",
       "      <td>1.021218</td>\n",
       "      <td>True</td>\n",
       "    </tr>\n",
       "    <tr>\n",
       "      <th>2</th>\n",
       "      <td>karjalan sissit</td>\n",
       "      <td>0.989997</td>\n",
       "      <td>False</td>\n",
       "    </tr>\n",
       "    <tr>\n",
       "      <th>3</th>\n",
       "      <td>rome</td>\n",
       "      <td>0.988649</td>\n",
       "      <td>True</td>\n",
       "    </tr>\n",
       "    <tr>\n",
       "      <th>4</th>\n",
       "      <td>d-a-d</td>\n",
       "      <td>0.987983</td>\n",
       "      <td>True</td>\n",
       "    </tr>\n",
       "    <tr>\n",
       "      <th>5</th>\n",
       "      <td>ordo rosarius equilibrio &amp; spiritual front</td>\n",
       "      <td>0.981284</td>\n",
       "      <td>False</td>\n",
       "    </tr>\n",
       "    <tr>\n",
       "      <th>6</th>\n",
       "      <td>arditi</td>\n",
       "      <td>0.981159</td>\n",
       "      <td>True</td>\n",
       "    </tr>\n",
       "    <tr>\n",
       "      <th>7</th>\n",
       "      <td>the coffinshakers</td>\n",
       "      <td>0.980529</td>\n",
       "      <td>True</td>\n",
       "    </tr>\n",
       "    <tr>\n",
       "      <th>8</th>\n",
       "      <td>ordo rosarius equilibrio</td>\n",
       "      <td>0.980149</td>\n",
       "      <td>False</td>\n",
       "    </tr>\n",
       "    <tr>\n",
       "      <th>9</th>\n",
       "      <td>blood axis</td>\n",
       "      <td>0.973070</td>\n",
       "      <td>False</td>\n",
       "    </tr>\n",
       "  </tbody>\n",
       "</table>\n",
       "</div>"
      ],
      "text/plain": [
       "                                       artist     score  already_liked\n",
       "0                             spiritual front  1.040421          False\n",
       "1                                   puissance  1.021218           True\n",
       "2                             karjalan sissit  0.989997          False\n",
       "3                                        rome  0.988649           True\n",
       "4                                       d-a-d  0.987983           True\n",
       "5  ordo rosarius equilibrio & spiritual front  0.981284          False\n",
       "6                                      arditi  0.981159           True\n",
       "7                           the coffinshakers  0.980529           True\n",
       "8                    ordo rosarius equilibrio  0.980149          False\n",
       "9                                  blood axis  0.973070          False"
      ]
     },
     "execution_count": 20,
     "metadata": {},
     "output_type": "execute_result"
    }
   ],
   "source": [
    "# Use pandas to display the output in a table, pandas isn't a dependency of implicit otherwise\n",
    "pd.DataFrame({\"artist\": artists[ids], \"score\": scores, \"already_liked\": np.in1d(ids, user_plays[userid].indices)})"
   ]
  },
  {
   "cell_type": "code",
   "execution_count": 21,
   "id": "4a204259",
   "metadata": {},
   "outputs": [
    {
     "data": {
      "text/html": [
       "<div>\n",
       "<style scoped>\n",
       "    .dataframe tbody tr th:only-of-type {\n",
       "        vertical-align: middle;\n",
       "    }\n",
       "\n",
       "    .dataframe tbody tr th {\n",
       "        vertical-align: top;\n",
       "    }\n",
       "\n",
       "    .dataframe thead th {\n",
       "        text-align: right;\n",
       "    }\n",
       "</style>\n",
       "<table border=\"1\" class=\"dataframe\">\n",
       "  <thead>\n",
       "    <tr style=\"text-align: right;\">\n",
       "      <th></th>\n",
       "      <th>artist</th>\n",
       "      <th>score</th>\n",
       "    </tr>\n",
       "  </thead>\n",
       "  <tbody>\n",
       "    <tr>\n",
       "      <th>0</th>\n",
       "      <td>the beatles</td>\n",
       "      <td>1.000000</td>\n",
       "    </tr>\n",
       "    <tr>\n",
       "      <th>1</th>\n",
       "      <td>the beach boys</td>\n",
       "      <td>0.993450</td>\n",
       "    </tr>\n",
       "    <tr>\n",
       "      <th>2</th>\n",
       "      <td>the rolling stones</td>\n",
       "      <td>0.993244</td>\n",
       "    </tr>\n",
       "    <tr>\n",
       "      <th>3</th>\n",
       "      <td>john lennon</td>\n",
       "      <td>0.992751</td>\n",
       "    </tr>\n",
       "    <tr>\n",
       "      <th>4</th>\n",
       "      <td>bob dylan</td>\n",
       "      <td>0.992225</td>\n",
       "    </tr>\n",
       "    <tr>\n",
       "      <th>5</th>\n",
       "      <td>the who</td>\n",
       "      <td>0.992147</td>\n",
       "    </tr>\n",
       "    <tr>\n",
       "      <th>6</th>\n",
       "      <td>david bowie</td>\n",
       "      <td>0.991132</td>\n",
       "    </tr>\n",
       "    <tr>\n",
       "      <th>7</th>\n",
       "      <td>simon &amp; garfunkel</td>\n",
       "      <td>0.991071</td>\n",
       "    </tr>\n",
       "    <tr>\n",
       "      <th>8</th>\n",
       "      <td>led zeppelin</td>\n",
       "      <td>0.990473</td>\n",
       "    </tr>\n",
       "    <tr>\n",
       "      <th>9</th>\n",
       "      <td>the kinks</td>\n",
       "      <td>0.989937</td>\n",
       "    </tr>\n",
       "  </tbody>\n",
       "</table>\n",
       "</div>"
      ],
      "text/plain": [
       "               artist     score\n",
       "0         the beatles  1.000000\n",
       "1      the beach boys  0.993450\n",
       "2  the rolling stones  0.993244\n",
       "3         john lennon  0.992751\n",
       "4           bob dylan  0.992225\n",
       "5             the who  0.992147\n",
       "6         david bowie  0.991132\n",
       "7   simon & garfunkel  0.991071\n",
       "8        led zeppelin  0.990473\n",
       "9           the kinks  0.989937"
      ]
     },
     "execution_count": 21,
     "metadata": {},
     "output_type": "execute_result"
    }
   ],
   "source": [
    "# get related items for the beatles (itemid = 25512)\n",
    "ids, scores= model.similar_items(252512)\n",
    "\n",
    "# display the results using pandas for nicer formatting\n",
    "pd.DataFrame({\"artist\": artists[ids], \"score\": scores})"
   ]
  },
  {
   "cell_type": "markdown",
   "id": "388dca19",
   "metadata": {},
   "source": [
    "## Using our data"
   ]
  },
  {
   "cell_type": "code",
   "execution_count": 42,
   "id": "92813cae",
   "metadata": {},
   "outputs": [
    {
     "data": {
      "application/vnd.jupyter.widget-view+json": {
       "model_id": "c18b04873c2c42e09feee4f211269864",
       "version_major": 2,
       "version_minor": 0
      },
      "text/plain": [
       "  0%|          | 0/15 [00:00<?, ?it/s]"
      ]
     },
     "metadata": {},
     "output_type": "display_data"
    }
   ],
   "source": [
    "X_imp = bm25_weight(X_sparse, K1=100, B=0.8)\n",
    "X_imp = X_imp.tocsr()\n",
    "\n",
    "model_imp = AlternatingLeastSquares(factors=64, regularization=0.05, alpha=2.0)\n",
    "model_imp.fit(X_imp)"
   ]
  },
  {
   "cell_type": "code",
   "execution_count": 73,
   "id": "94be9ddd",
   "metadata": {},
   "outputs": [
    {
     "data": {
      "text/html": [
       "<div>\n",
       "<style scoped>\n",
       "    .dataframe tbody tr th:only-of-type {\n",
       "        vertical-align: middle;\n",
       "    }\n",
       "\n",
       "    .dataframe tbody tr th {\n",
       "        vertical-align: top;\n",
       "    }\n",
       "\n",
       "    .dataframe thead th {\n",
       "        text-align: right;\n",
       "    }\n",
       "</style>\n",
       "<table border=\"1\" class=\"dataframe\">\n",
       "  <thead>\n",
       "    <tr style=\"text-align: right;\">\n",
       "      <th></th>\n",
       "      <th>movies</th>\n",
       "      <th>score</th>\n",
       "      <th>already_liked</th>\n",
       "    </tr>\n",
       "  </thead>\n",
       "  <tbody>\n",
       "    <tr>\n",
       "      <th>3806</th>\n",
       "      <td>childs+play+1988</td>\n",
       "      <td>0.998216</td>\n",
       "      <td>True</td>\n",
       "    </tr>\n",
       "    <tr>\n",
       "      <th>3385</th>\n",
       "      <td>the+devil+and+daniel+johnston+2005</td>\n",
       "      <td>0.985364</td>\n",
       "      <td>True</td>\n",
       "    </tr>\n",
       "    <tr>\n",
       "      <th>11</th>\n",
       "      <td>kate++leopold+2001</td>\n",
       "      <td>0.982185</td>\n",
       "      <td>True</td>\n",
       "    </tr>\n",
       "    <tr>\n",
       "      <th>2350</th>\n",
       "      <td>otello+1986</td>\n",
       "      <td>0.981872</td>\n",
       "      <td>True</td>\n",
       "    </tr>\n",
       "    <tr>\n",
       "      <th>3893</th>\n",
       "      <td>rollerball+2002</td>\n",
       "      <td>0.978048</td>\n",
       "      <td>True</td>\n",
       "    </tr>\n",
       "    <tr>\n",
       "      <th>453</th>\n",
       "      <td>night+on+earth+1991</td>\n",
       "      <td>0.977427</td>\n",
       "      <td>True</td>\n",
       "    </tr>\n",
       "    <tr>\n",
       "      <th>2885</th>\n",
       "      <td>the+exorcism+of+emily+rose+2005</td>\n",
       "      <td>0.976597</td>\n",
       "      <td>True</td>\n",
       "    </tr>\n",
       "    <tr>\n",
       "      <th>4380</th>\n",
       "      <td>death+ship+1980</td>\n",
       "      <td>0.970494</td>\n",
       "      <td>False</td>\n",
       "    </tr>\n",
       "    <tr>\n",
       "      <th>1573</th>\n",
       "      <td>the+manchurian+candidate+1962</td>\n",
       "      <td>0.814356</td>\n",
       "      <td>False</td>\n",
       "    </tr>\n",
       "    <tr>\n",
       "      <th>4385</th>\n",
       "      <td>the+jungle+book+2+2003</td>\n",
       "      <td>0.729844</td>\n",
       "      <td>False</td>\n",
       "    </tr>\n",
       "    <tr>\n",
       "      <th>3639</th>\n",
       "      <td>help+1965</td>\n",
       "      <td>0.689950</td>\n",
       "      <td>False</td>\n",
       "    </tr>\n",
       "    <tr>\n",
       "      <th>884</th>\n",
       "      <td>hope+floats+1998</td>\n",
       "      <td>0.689936</td>\n",
       "      <td>False</td>\n",
       "    </tr>\n",
       "    <tr>\n",
       "      <th>1045</th>\n",
       "      <td>the+ghost+and+mrs.+muir+1947</td>\n",
       "      <td>0.662024</td>\n",
       "      <td>False</td>\n",
       "    </tr>\n",
       "    <tr>\n",
       "      <th>3761</th>\n",
       "      <td>of+human+bondage+1934</td>\n",
       "      <td>0.641857</td>\n",
       "      <td>False</td>\n",
       "    </tr>\n",
       "    <tr>\n",
       "      <th>1865</th>\n",
       "      <td>out+of+africa+1985</td>\n",
       "      <td>0.641835</td>\n",
       "      <td>False</td>\n",
       "    </tr>\n",
       "    <tr>\n",
       "      <th>4241</th>\n",
       "      <td>dark+days+2000</td>\n",
       "      <td>0.628788</td>\n",
       "      <td>False</td>\n",
       "    </tr>\n",
       "    <tr>\n",
       "      <th>3882</th>\n",
       "      <td>kung+fu+panda+holiday+2010</td>\n",
       "      <td>0.593967</td>\n",
       "      <td>False</td>\n",
       "    </tr>\n",
       "    <tr>\n",
       "      <th>1656</th>\n",
       "      <td>green+lantern+2011</td>\n",
       "      <td>0.593736</td>\n",
       "      <td>False</td>\n",
       "    </tr>\n",
       "    <tr>\n",
       "      <th>4639</th>\n",
       "      <td>dreamscape+1984</td>\n",
       "      <td>0.590564</td>\n",
       "      <td>False</td>\n",
       "    </tr>\n",
       "    <tr>\n",
       "      <th>743</th>\n",
       "      <td>the+three+faces+of+eve+1957</td>\n",
       "      <td>0.581391</td>\n",
       "      <td>False</td>\n",
       "    </tr>\n",
       "  </tbody>\n",
       "</table>\n",
       "</div>"
      ],
      "text/plain": [
       "                                  movies     score  already_liked\n",
       "3806                    childs+play+1988  0.998216           True\n",
       "3385  the+devil+and+daniel+johnston+2005  0.985364           True\n",
       "11                    kate++leopold+2001  0.982185           True\n",
       "2350                         otello+1986  0.981872           True\n",
       "3893                     rollerball+2002  0.978048           True\n",
       "453                  night+on+earth+1991  0.977427           True\n",
       "2885     the+exorcism+of+emily+rose+2005  0.976597           True\n",
       "4380                     death+ship+1980  0.970494          False\n",
       "1573       the+manchurian+candidate+1962  0.814356          False\n",
       "4385              the+jungle+book+2+2003  0.729844          False\n",
       "3639                           help+1965  0.689950          False\n",
       "884                     hope+floats+1998  0.689936          False\n",
       "1045        the+ghost+and+mrs.+muir+1947  0.662024          False\n",
       "3761               of+human+bondage+1934  0.641857          False\n",
       "1865                  out+of+africa+1985  0.641835          False\n",
       "4241                      dark+days+2000  0.628788          False\n",
       "3882          kung+fu+panda+holiday+2010  0.593967          False\n",
       "1656                  green+lantern+2011  0.593736          False\n",
       "4639                     dreamscape+1984  0.590564          False\n",
       "743          the+three+faces+of+eve+1957  0.581391          False"
      ]
     },
     "execution_count": 73,
     "metadata": {},
     "output_type": "execute_result"
    }
   ],
   "source": [
    "userid = 1\n",
    "ids, scores = model_imp.recommend(userid, X_imp[userid], N=20, filter_already_liked_items=False)\n",
    "pd.DataFrame({\"movies\": movies.loc[ids]['movieid'], \"score\": scores, \"already_liked\": np.in1d(ids, X_imp[userid].indices)})"
   ]
  },
  {
   "cell_type": "code",
   "execution_count": 89,
   "id": "7e7ac639",
   "metadata": {},
   "outputs": [
    {
     "data": {
      "text/html": [
       "<div>\n",
       "<style scoped>\n",
       "    .dataframe tbody tr th:only-of-type {\n",
       "        vertical-align: middle;\n",
       "    }\n",
       "\n",
       "    .dataframe tbody tr th {\n",
       "        vertical-align: top;\n",
       "    }\n",
       "\n",
       "    .dataframe thead th {\n",
       "        text-align: right;\n",
       "    }\n",
       "</style>\n",
       "<table border=\"1\" class=\"dataframe\">\n",
       "  <thead>\n",
       "    <tr style=\"text-align: right;\">\n",
       "      <th></th>\n",
       "      <th>movies</th>\n",
       "      <th>score</th>\n",
       "      <th>already_liked</th>\n",
       "    </tr>\n",
       "  </thead>\n",
       "  <tbody>\n",
       "    <tr>\n",
       "      <th>4325</th>\n",
       "      <td>moonlight+mile+2002</td>\n",
       "      <td>1.150219</td>\n",
       "      <td>False</td>\n",
       "    </tr>\n",
       "    <tr>\n",
       "      <th>4873</th>\n",
       "      <td>greenfingers+2001</td>\n",
       "      <td>1.091308</td>\n",
       "      <td>False</td>\n",
       "    </tr>\n",
       "    <tr>\n",
       "      <th>2411</th>\n",
       "      <td>baraka+1992</td>\n",
       "      <td>1.054747</td>\n",
       "      <td>False</td>\n",
       "    </tr>\n",
       "    <tr>\n",
       "      <th>3429</th>\n",
       "      <td>rocky+ii+1979</td>\n",
       "      <td>1.013041</td>\n",
       "      <td>True</td>\n",
       "    </tr>\n",
       "    <tr>\n",
       "      <th>3375</th>\n",
       "      <td>the+object+of+my+affection+1998</td>\n",
       "      <td>1.012211</td>\n",
       "      <td>True</td>\n",
       "    </tr>\n",
       "    <tr>\n",
       "      <th>987</th>\n",
       "      <td>the+bridges+of+madison+county+1995</td>\n",
       "      <td>1.007364</td>\n",
       "      <td>True</td>\n",
       "    </tr>\n",
       "    <tr>\n",
       "      <th>2981</th>\n",
       "      <td>allegro+non+troppo+1976</td>\n",
       "      <td>1.000979</td>\n",
       "      <td>True</td>\n",
       "    </tr>\n",
       "    <tr>\n",
       "      <th>2160</th>\n",
       "      <td>diner+1982</td>\n",
       "      <td>0.997940</td>\n",
       "      <td>True</td>\n",
       "    </tr>\n",
       "    <tr>\n",
       "      <th>3840</th>\n",
       "      <td>up+in+the+air+2009</td>\n",
       "      <td>0.997795</td>\n",
       "      <td>True</td>\n",
       "    </tr>\n",
       "    <tr>\n",
       "      <th>3867</th>\n",
       "      <td>the+hangover+part+iii+2013</td>\n",
       "      <td>0.996103</td>\n",
       "      <td>True</td>\n",
       "    </tr>\n",
       "    <tr>\n",
       "      <th>2490</th>\n",
       "      <td>practical+magic+1998</td>\n",
       "      <td>0.995004</td>\n",
       "      <td>True</td>\n",
       "    </tr>\n",
       "    <tr>\n",
       "      <th>1287</th>\n",
       "      <td>st.+elmos+fire+1985</td>\n",
       "      <td>0.994166</td>\n",
       "      <td>True</td>\n",
       "    </tr>\n",
       "    <tr>\n",
       "      <th>2373</th>\n",
       "      <td>lilya+4-ever+2002</td>\n",
       "      <td>0.993802</td>\n",
       "      <td>True</td>\n",
       "    </tr>\n",
       "    <tr>\n",
       "      <th>2479</th>\n",
       "      <td>the+animal+2001</td>\n",
       "      <td>0.993654</td>\n",
       "      <td>True</td>\n",
       "    </tr>\n",
       "    <tr>\n",
       "      <th>4319</th>\n",
       "      <td>the+crowd+1928</td>\n",
       "      <td>0.993567</td>\n",
       "      <td>True</td>\n",
       "    </tr>\n",
       "    <tr>\n",
       "      <th>1381</th>\n",
       "      <td>transformers+2007</td>\n",
       "      <td>0.993146</td>\n",
       "      <td>False</td>\n",
       "    </tr>\n",
       "    <tr>\n",
       "      <th>4596</th>\n",
       "      <td>elstree+calling+1930</td>\n",
       "      <td>0.992384</td>\n",
       "      <td>True</td>\n",
       "    </tr>\n",
       "    <tr>\n",
       "      <th>3386</th>\n",
       "      <td>hostel+2005</td>\n",
       "      <td>0.991827</td>\n",
       "      <td>True</td>\n",
       "    </tr>\n",
       "    <tr>\n",
       "      <th>3692</th>\n",
       "      <td>true+crime+1996</td>\n",
       "      <td>0.989442</td>\n",
       "      <td>True</td>\n",
       "    </tr>\n",
       "    <tr>\n",
       "      <th>3087</th>\n",
       "      <td>grease+2+1982</td>\n",
       "      <td>0.989322</td>\n",
       "      <td>True</td>\n",
       "    </tr>\n",
       "  </tbody>\n",
       "</table>\n",
       "</div>"
      ],
      "text/plain": [
       "                                  movies     score  already_liked\n",
       "4325                 moonlight+mile+2002  1.150219          False\n",
       "4873                   greenfingers+2001  1.091308          False\n",
       "2411                         baraka+1992  1.054747          False\n",
       "3429                       rocky+ii+1979  1.013041           True\n",
       "3375     the+object+of+my+affection+1998  1.012211           True\n",
       "987   the+bridges+of+madison+county+1995  1.007364           True\n",
       "2981             allegro+non+troppo+1976  1.000979           True\n",
       "2160                          diner+1982  0.997940           True\n",
       "3840                  up+in+the+air+2009  0.997795           True\n",
       "3867          the+hangover+part+iii+2013  0.996103           True\n",
       "2490                practical+magic+1998  0.995004           True\n",
       "1287                 st.+elmos+fire+1985  0.994166           True\n",
       "2373                   lilya+4-ever+2002  0.993802           True\n",
       "2479                     the+animal+2001  0.993654           True\n",
       "4319                      the+crowd+1928  0.993567           True\n",
       "1381                   transformers+2007  0.993146          False\n",
       "4596                elstree+calling+1930  0.992384           True\n",
       "3386                         hostel+2005  0.991827           True\n",
       "3692                     true+crime+1996  0.989442           True\n",
       "3087                       grease+2+1982  0.989322           True"
      ]
     },
     "execution_count": 89,
     "metadata": {},
     "output_type": "execute_result"
    }
   ],
   "source": [
    "userid = 123\n",
    "ids, scores = model_imp.recommend(userid, X_imp[userid], N=20, filter_already_liked_items=False)\n",
    "pd.DataFrame({\"movies\": movies.loc[ids]['movieid'], \"score\": scores, \"already_liked\": np.in1d(ids, X_imp[userid].indices)})"
   ]
  },
  {
   "cell_type": "markdown",
   "id": "ec853204",
   "metadata": {},
   "source": [
    "# Surprise"
   ]
  },
  {
   "cell_type": "code",
   "execution_count": 2,
   "id": "eb339d95",
   "metadata": {},
   "outputs": [
    {
     "name": "stdout",
     "output_type": "stream",
     "text": [
      "Dataset ml-100k could not be found. Do you want to download it? [Y/n] Y\n",
      "Trying to download dataset from https://files.grouplens.org/datasets/movielens/ml-100k.zip...\n",
      "Done! Dataset ml-100k has been saved to /Users/venny/.surprise_data/ml-100k\n",
      "RMSE: 0.9390\n"
     ]
    },
    {
     "data": {
      "text/plain": [
       "0.9389823939019692"
      ]
     },
     "execution_count": 2,
     "metadata": {},
     "output_type": "execute_result"
    }
   ],
   "source": [
    "from surprise import accuracy, Dataset, SVD\n",
    "from surprise.model_selection import train_test_split\n",
    "\n",
    "# Load the movielens-100k dataset (download it if needed),\n",
    "data = Dataset.load_builtin(\"ml-100k\")\n",
    "\n",
    "# sample random trainset and testset\n",
    "# test set is made of 25% of the ratings.\n",
    "trainset, testset = train_test_split(data, test_size=0.25)\n",
    "\n",
    "# We'll use the famous SVD algorithm.\n",
    "algo = SVD()\n",
    "\n",
    "# Train the algorithm on the trainset, and predict ratings for the testset\n",
    "algo.fit(trainset)\n",
    "predictions = algo.test(testset)\n",
    "\n",
    "# Then compute RMSE\n",
    "accuracy.rmse(predictions)"
   ]
  },
  {
   "cell_type": "code",
   "execution_count": 3,
   "id": "dd7dee4f",
   "metadata": {},
   "outputs": [
    {
     "data": {
      "text/plain": [
       "<surprise.dataset.DatasetAutoFolds at 0x7f8348054850>"
      ]
     },
     "execution_count": 3,
     "metadata": {},
     "output_type": "execute_result"
    }
   ],
   "source": [
    "data"
   ]
  },
  {
   "cell_type": "code",
   "execution_count": 4,
   "id": "57261c0b",
   "metadata": {},
   "outputs": [
    {
     "name": "stdout",
     "output_type": "stream",
     "text": [
      "Estimating biases using als...\n",
      "Estimating biases using als...\n",
      "Estimating biases using als...\n",
      "Estimating biases using als...\n",
      "Estimating biases using als...\n",
      "Evaluating RMSE, MAE of algorithm BaselineOnly on 5 split(s).\n",
      "\n",
      "                  Fold 1  Fold 2  Fold 3  Fold 4  Fold 5  Mean    Std     \n",
      "RMSE (testset)    0.9423  0.9465  0.9486  0.9462  0.9398  0.9447  0.0032  \n",
      "MAE (testset)     0.7465  0.7501  0.7528  0.7501  0.7458  0.7491  0.0026  \n",
      "Fit time          0.05    0.05    0.05    0.05    0.05    0.05    0.00    \n",
      "Test time         0.14    0.05    0.09    0.05    0.10    0.09    0.03    \n"
     ]
    },
    {
     "data": {
      "text/plain": [
       "{'test_rmse': array([0.94231388, 0.94651465, 0.94855059, 0.94616341, 0.93978089]),\n",
       " 'test_mae': array([0.74654601, 0.75009708, 0.75277926, 0.75012542, 0.7457989 ]),\n",
       " 'fit_time': (0.05452394485473633,\n",
       "  0.05255484580993652,\n",
       "  0.047972917556762695,\n",
       "  0.05120205879211426,\n",
       "  0.04806804656982422),\n",
       " 'test_time': (0.14230108261108398,\n",
       "  0.04979133605957031,\n",
       "  0.09296512603759766,\n",
       "  0.049386024475097656,\n",
       "  0.09631490707397461)}"
      ]
     },
     "execution_count": 4,
     "metadata": {},
     "output_type": "execute_result"
    }
   ],
   "source": [
    "import os\n",
    "\n",
    "from surprise import BaselineOnly, Dataset, Reader\n",
    "from surprise.model_selection import cross_validate\n",
    "\n",
    "# path to dataset file\n",
    "file_path = os.path.expanduser(\"~/Documents/Courses/17-645/Misc/ml-100k/u.data\")\n",
    "\n",
    "# As we're loading a custom dataset, we need to define a reader. In the\n",
    "# movielens-100k dataset, each line has the following format:\n",
    "# 'user item rating timestamp', separated by '\\t' characters.\n",
    "reader = Reader(line_format=\"user item rating timestamp\", sep=\"\\t\")\n",
    "\n",
    "data = Dataset.load_from_file(file_path, reader=reader)\n",
    "\n",
    "# We can now use this dataset as we please, e.g. calling cross_validate\n",
    "cross_validate(BaselineOnly(), data, verbose=True)"
   ]
  },
  {
   "cell_type": "code",
   "execution_count": 5,
   "id": "04b0c5c4",
   "metadata": {},
   "outputs": [
    {
     "data": {
      "text/plain": [
       "<surprise.reader.Reader at 0x7f83895892e0>"
      ]
     },
     "execution_count": 5,
     "metadata": {},
     "output_type": "execute_result"
    }
   ],
   "source": [
    "reader"
   ]
  },
  {
   "cell_type": "code",
   "execution_count": null,
   "id": "d896506d",
   "metadata": {},
   "outputs": [],
   "source": []
  }
 ],
 "metadata": {
  "kernelspec": {
   "display_name": "Python 3 (ipykernel)",
   "language": "python",
   "name": "python3"
  },
  "language_info": {
   "codemirror_mode": {
    "name": "ipython",
    "version": 3
   },
   "file_extension": ".py",
   "mimetype": "text/x-python",
   "name": "python",
   "nbconvert_exporter": "python",
   "pygments_lexer": "ipython3",
   "version": "3.8.8"
  }
 },
 "nbformat": 4,
 "nbformat_minor": 5
}
