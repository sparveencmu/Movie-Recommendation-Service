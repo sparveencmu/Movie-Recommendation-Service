{
 "cells": [
  {
   "cell_type": "code",
   "execution_count": 30,
   "id": "e4962e3f",
   "metadata": {},
   "outputs": [],
   "source": [
    "import json\n",
    "import pandas as pd\n",
    "import numpy as np\n",
    "import scipy.sparse as sp\n",
    "import pickle\n",
    "import seaborn as sns"
   ]
  },
  {
   "cell_type": "code",
   "execution_count": 31,
   "id": "0c8a5c06",
   "metadata": {},
   "outputs": [
    {
     "data": {
      "text/html": [
       "<div>\n",
       "<style scoped>\n",
       "    .dataframe tbody tr th:only-of-type {\n",
       "        vertical-align: middle;\n",
       "    }\n",
       "\n",
       "    .dataframe tbody tr th {\n",
       "        vertical-align: top;\n",
       "    }\n",
       "\n",
       "    .dataframe thead th {\n",
       "        text-align: right;\n",
       "    }\n",
       "</style>\n",
       "<table border=\"1\" class=\"dataframe\">\n",
       "  <thead>\n",
       "    <tr style=\"text-align: right;\">\n",
       "      <th></th>\n",
       "      <th>user_id</th>\n",
       "      <th>movie_name</th>\n",
       "      <th>year</th>\n",
       "      <th>movie_id</th>\n",
       "      <th>rating</th>\n",
       "    </tr>\n",
       "  </thead>\n",
       "  <tbody>\n",
       "    <tr>\n",
       "      <th>0</th>\n",
       "      <td>13680</td>\n",
       "      <td>torso</td>\n",
       "      <td>1973</td>\n",
       "      <td>torso+1973</td>\n",
       "      <td>4</td>\n",
       "    </tr>\n",
       "    <tr>\n",
       "      <th>1</th>\n",
       "      <td>206902</td>\n",
       "      <td>broadway damage</td>\n",
       "      <td>1997</td>\n",
       "      <td>broadway+damage+1997</td>\n",
       "      <td>4</td>\n",
       "    </tr>\n",
       "    <tr>\n",
       "      <th>2</th>\n",
       "      <td>19046</td>\n",
       "      <td>terminator 2 judgment day</td>\n",
       "      <td>1991</td>\n",
       "      <td>terminator+2+judgment+day+1991</td>\n",
       "      <td>3</td>\n",
       "    </tr>\n",
       "    <tr>\n",
       "      <th>3</th>\n",
       "      <td>2342</td>\n",
       "      <td>light is calling</td>\n",
       "      <td>2004</td>\n",
       "      <td>light+is+calling+2004</td>\n",
       "      <td>4</td>\n",
       "    </tr>\n",
       "    <tr>\n",
       "      <th>4</th>\n",
       "      <td>129260</td>\n",
       "      <td>the devil and holy water</td>\n",
       "      <td>1983</td>\n",
       "      <td>the+devil+and+holy+water+1983</td>\n",
       "      <td>4</td>\n",
       "    </tr>\n",
       "  </tbody>\n",
       "</table>\n",
       "</div>"
      ],
      "text/plain": [
       "   user_id                 movie_name  year                        movie_id  \\\n",
       "0    13680                      torso  1973                      torso+1973   \n",
       "1   206902            broadway damage  1997            broadway+damage+1997   \n",
       "2    19046  terminator 2 judgment day  1991  terminator+2+judgment+day+1991   \n",
       "3     2342           light is calling  2004           light+is+calling+2004   \n",
       "4   129260   the devil and holy water  1983   the+devil+and+holy+water+1983   \n",
       "\n",
       "   rating  \n",
       "0       4  \n",
       "1       4  \n",
       "2       3  \n",
       "3       4  \n",
       "4       4  "
      ]
     },
     "execution_count": 31,
     "metadata": {},
     "output_type": "execute_result"
    }
   ],
   "source": [
    "df = pd.read_csv(\"../data/user_rate_movie_35k.csv\")\n",
    "df.head()"
   ]
  },
  {
   "cell_type": "code",
   "execution_count": 32,
   "id": "82cfcee4",
   "metadata": {},
   "outputs": [
    {
     "data": {
      "text/plain": [
       "user_id       3612\n",
       "movie_name    4617\n",
       "year           105\n",
       "movie_id      4717\n",
       "rating           5\n",
       "dtype: int64"
      ]
     },
     "execution_count": 32,
     "metadata": {},
     "output_type": "execute_result"
    }
   ],
   "source": [
    "df.nunique()"
   ]
  },
  {
   "cell_type": "code",
   "execution_count": 33,
   "id": "15dc3a20",
   "metadata": {},
   "outputs": [],
   "source": [
    "idx_to_mid = dict()\n",
    "with open('../data/idx_to_mid_1500k.pkl', 'rb') as f:\n",
    "    idx_to_mid = pickle.load(f)\n",
    "\n",
    "mid_to_idx = dict((v,k) for k,v in idx_to_mid.items())"
   ]
  },
  {
   "cell_type": "code",
   "execution_count": 38,
   "id": "b72b5653",
   "metadata": {},
   "outputs": [],
   "source": [
    "df_clean = df.copy()\n",
    "df_clean['movie_num'] = df.apply (lambda row: mid_to_idx[row['movie_id']], axis=1)\n",
    "df_clean = df_clean[['user_id', 'movie_num', 'rating']]\n",
    "df_clean = df_clean.astype({'movie_num': 'int32'})"
   ]
  },
  {
   "cell_type": "code",
   "execution_count": 39,
   "id": "d658d2cb",
   "metadata": {},
   "outputs": [
    {
     "data": {
      "text/html": [
       "<div>\n",
       "<style scoped>\n",
       "    .dataframe tbody tr th:only-of-type {\n",
       "        vertical-align: middle;\n",
       "    }\n",
       "\n",
       "    .dataframe tbody tr th {\n",
       "        vertical-align: top;\n",
       "    }\n",
       "\n",
       "    .dataframe thead th {\n",
       "        text-align: right;\n",
       "    }\n",
       "</style>\n",
       "<table border=\"1\" class=\"dataframe\">\n",
       "  <thead>\n",
       "    <tr style=\"text-align: right;\">\n",
       "      <th></th>\n",
       "      <th>user_id</th>\n",
       "      <th>movie_num</th>\n",
       "      <th>rating</th>\n",
       "    </tr>\n",
       "  </thead>\n",
       "  <tbody>\n",
       "    <tr>\n",
       "      <th>0</th>\n",
       "      <td>13680</td>\n",
       "      <td>13139</td>\n",
       "      <td>4</td>\n",
       "    </tr>\n",
       "    <tr>\n",
       "      <th>1</th>\n",
       "      <td>206902</td>\n",
       "      <td>12199</td>\n",
       "      <td>4</td>\n",
       "    </tr>\n",
       "    <tr>\n",
       "      <th>2</th>\n",
       "      <td>19046</td>\n",
       "      <td>292</td>\n",
       "      <td>3</td>\n",
       "    </tr>\n",
       "    <tr>\n",
       "      <th>3</th>\n",
       "      <td>2342</td>\n",
       "      <td>11067</td>\n",
       "      <td>4</td>\n",
       "    </tr>\n",
       "    <tr>\n",
       "      <th>4</th>\n",
       "      <td>129260</td>\n",
       "      <td>14031</td>\n",
       "      <td>4</td>\n",
       "    </tr>\n",
       "    <tr>\n",
       "      <th>...</th>\n",
       "      <td>...</td>\n",
       "      <td>...</td>\n",
       "      <td>...</td>\n",
       "    </tr>\n",
       "    <tr>\n",
       "      <th>35966</th>\n",
       "      <td>97978</td>\n",
       "      <td>1460</td>\n",
       "      <td>5</td>\n",
       "    </tr>\n",
       "    <tr>\n",
       "      <th>35967</th>\n",
       "      <td>97978</td>\n",
       "      <td>1598</td>\n",
       "      <td>4</td>\n",
       "    </tr>\n",
       "    <tr>\n",
       "      <th>35968</th>\n",
       "      <td>97978</td>\n",
       "      <td>1788</td>\n",
       "      <td>4</td>\n",
       "    </tr>\n",
       "    <tr>\n",
       "      <th>35969</th>\n",
       "      <td>197728</td>\n",
       "      <td>1838</td>\n",
       "      <td>2</td>\n",
       "    </tr>\n",
       "    <tr>\n",
       "      <th>35970</th>\n",
       "      <td>94199</td>\n",
       "      <td>222</td>\n",
       "      <td>4</td>\n",
       "    </tr>\n",
       "  </tbody>\n",
       "</table>\n",
       "<p>35971 rows × 3 columns</p>\n",
       "</div>"
      ],
      "text/plain": [
       "       user_id  movie_num  rating\n",
       "0        13680      13139       4\n",
       "1       206902      12199       4\n",
       "2        19046        292       3\n",
       "3         2342      11067       4\n",
       "4       129260      14031       4\n",
       "...        ...        ...     ...\n",
       "35966    97978       1460       5\n",
       "35967    97978       1598       4\n",
       "35968    97978       1788       4\n",
       "35969   197728       1838       2\n",
       "35970    94199        222       4\n",
       "\n",
       "[35971 rows x 3 columns]"
      ]
     },
     "execution_count": 39,
     "metadata": {},
     "output_type": "execute_result"
    }
   ],
   "source": [
    "df_clean"
   ]
  },
  {
   "cell_type": "code",
   "execution_count": 40,
   "id": "7dd8baf0",
   "metadata": {},
   "outputs": [],
   "source": [
    "df_clean.to_csv('../data/user_rate_movie_35k_clean.csv', index=False, header=False)"
   ]
  },
  {
   "cell_type": "code",
   "execution_count": null,
   "id": "c40f6a8d",
   "metadata": {},
   "outputs": [],
   "source": [
    "df_clean"
   ]
  },
  {
   "cell_type": "code",
   "execution_count": 58,
   "id": "00e0b6f4",
   "metadata": {},
   "outputs": [],
   "source": [
    "uid_clean = df_clean['user_id'].unique()"
   ]
  },
  {
   "cell_type": "code",
   "execution_count": 59,
   "id": "f2938296",
   "metadata": {},
   "outputs": [],
   "source": [
    "with open('../data/uid_35k.npy', 'wb') as f:\n",
    "    np.save(f, np.array(uid_clean))"
   ]
  },
  {
   "cell_type": "code",
   "execution_count": null,
   "id": "b48e6d4f",
   "metadata": {},
   "outputs": [],
   "source": [
    "df_clean['user'].to_csv"
   ]
  },
  {
   "cell_type": "markdown",
   "id": "4a6f3530",
   "metadata": {},
   "source": [
    "## Surprise"
   ]
  },
  {
   "cell_type": "code",
   "execution_count": 24,
   "id": "54c3bed0",
   "metadata": {},
   "outputs": [],
   "source": [
    "from surprise import BaselineOnly, Dataset, Reader\n",
    "from surprise.model_selection import cross_validate\n",
    "from surprise import accuracy, Dataset\n",
    "from surprise.model_selection import train_test_split\n",
    "from surprise.prediction_algorithms.matrix_factorization import SVD, SVDpp, NMF\n",
    "from surprise.prediction_algorithms.knns import KNNBasic, KNNWithMeans, KNNWithZScore, KNNBaseline\n",
    "import surprise.dump as sdump"
   ]
  },
  {
   "cell_type": "code",
   "execution_count": 41,
   "id": "140eacfd",
   "metadata": {},
   "outputs": [],
   "source": [
    "reader = Reader(line_format=\"user item rating\", sep=\",\")\n",
    "data = Dataset.load_from_file(\"../data/user_rate_movie_35k_clean.csv\", reader=reader)\n",
    "trainset, testset = train_test_split(data, test_size=0.25)"
   ]
  },
  {
   "cell_type": "code",
   "execution_count": 26,
   "id": "69ea377b",
   "metadata": {},
   "outputs": [],
   "source": [
    "algo = NMF()"
   ]
  },
  {
   "cell_type": "code",
   "execution_count": 50,
   "id": "3fcc8dcc",
   "metadata": {},
   "outputs": [
    {
     "name": "stdout",
     "output_type": "stream",
     "text": [
      "RMSE: 1.1210\n",
      "FCP:  0.5650\n",
      "RMSE: 1.1153\n",
      "FCP:  0.5654\n",
      "RMSE: 1.1144\n",
      "FCP:  0.5643\n",
      "RMSE: 1.1165\n",
      "FCP:  0.5521\n",
      "RMSE: 1.1241\n",
      "FCP:  0.5494\n",
      "RMSE: 1.1219\n",
      "FCP:  0.5471\n",
      "RMSE: 1.1191\n",
      "FCP:  0.5583\n",
      "RMSE: 1.1216\n",
      "FCP:  0.5613\n",
      "1.43 s ± 26 ms per loop (mean ± std. dev. of 7 runs, 1 loop each)\n"
     ]
    }
   ],
   "source": [
    "%%timeit\n",
    "\n",
    "algo.fit(trainset)\n",
    "predictions = algo.test(testset)\n",
    "\n",
    "# Then compute RMSE\n",
    "accuracy.rmse(predictions)\n",
    "accuracy.fcp(predictions)"
   ]
  },
  {
   "cell_type": "code",
   "execution_count": 60,
   "id": "3a11ccae",
   "metadata": {},
   "outputs": [
    {
     "data": {
      "text/plain": [
       "<surprise.prediction_algorithms.matrix_factorization.NMF at 0x7f8bd44f58e0>"
      ]
     },
     "execution_count": 60,
     "metadata": {},
     "output_type": "execute_result"
    }
   ],
   "source": [
    "allset = data.build_full_trainset()\n",
    "algo = NMF()\n",
    "algo.fit(allset)"
   ]
  },
  {
   "cell_type": "markdown",
   "id": "3e544eae",
   "metadata": {},
   "source": [
    "### Save model"
   ]
  },
  {
   "cell_type": "code",
   "execution_count": 61,
   "id": "addbf1aa",
   "metadata": {},
   "outputs": [],
   "source": [
    "sdump.dump(\"nmf.pkl\", algo=algo)"
   ]
  },
  {
   "cell_type": "code",
   "execution_count": 62,
   "id": "15f106b3",
   "metadata": {},
   "outputs": [],
   "source": [
    "_, alg = sdump.load(\"nmf.pkl\")"
   ]
  },
  {
   "cell_type": "code",
   "execution_count": 63,
   "id": "47fb1954",
   "metadata": {},
   "outputs": [
    {
     "name": "stdout",
     "output_type": "stream",
     "text": [
      "RMSE: 0.3403\n",
      "FCP:  0.7637\n"
     ]
    },
    {
     "data": {
      "text/plain": [
       "0.7637384711628414"
      ]
     },
     "execution_count": 63,
     "metadata": {},
     "output_type": "execute_result"
    }
   ],
   "source": [
    "predictions = alg.test(testset)\n",
    "accuracy.rmse(predictions)\n",
    "accuracy.fcp(predictions)"
   ]
  },
  {
   "cell_type": "code",
   "execution_count": null,
   "id": "2c5ad0f0",
   "metadata": {},
   "outputs": [],
   "source": []
  }
 ],
 "metadata": {
  "kernelspec": {
   "display_name": "Python 3 (ipykernel)",
   "language": "python",
   "name": "python3"
  },
  "language_info": {
   "codemirror_mode": {
    "name": "ipython",
    "version": 3
   },
   "file_extension": ".py",
   "mimetype": "text/x-python",
   "name": "python",
   "nbconvert_exporter": "python",
   "pygments_lexer": "ipython3",
   "version": "3.8.8"
  }
 },
 "nbformat": 4,
 "nbformat_minor": 5
}
