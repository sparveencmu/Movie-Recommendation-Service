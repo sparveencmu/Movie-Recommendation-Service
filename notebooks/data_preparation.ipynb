{
 "cells": [
  {
   "cell_type": "code",
   "execution_count": 6,
   "id": "242e6a7e",
   "metadata": {},
   "outputs": [],
   "source": [
    "import json\n",
    "import pandas as pd\n",
    "import numpy as np\n",
    "import scipy.sparse as sp\n",
    "import scipy.linalg as la\n",
    "import seaborn as sns\n",
    "import pickle"
   ]
  },
  {
   "cell_type": "markdown",
   "id": "d2269158",
   "metadata": {},
   "source": [
    "# Load Data"
   ]
  },
  {
   "cell_type": "code",
   "execution_count": 7,
   "id": "906fd770",
   "metadata": {},
   "outputs": [],
   "source": [
    "df = pd.read_csv(\"../data/user_movie_1500k.csv\")\n",
    "df500k = pd.read_csv(\"../data/user_movie_500k.csv\")\n",
    "df100k = pd.read_csv(\"../data/user_movie_100k.csv\")"
   ]
  },
  {
   "cell_type": "markdown",
   "id": "a5261eb3",
   "metadata": {},
   "source": [
    "# Train-Val-Test Split"
   ]
  },
  {
   "cell_type": "code",
   "execution_count": 1,
   "id": "29fd9c63",
   "metadata": {},
   "outputs": [],
   "source": [
    "def map_ids(row, mapper):\n",
    "    return mapper[row]"
   ]
  },
  {
   "cell_type": "code",
   "execution_count": 3,
   "id": "0722b2ee",
   "metadata": {},
   "outputs": [],
   "source": [
    "def matrix_data(df):\n",
    "    mid_to_idx = {}\n",
    "    idx_to_mid = {}\n",
    "    for (idx, mid) in enumerate(df.movie_id.unique().tolist()):\n",
    "        mid_to_idx[mid] = idx\n",
    "        idx_to_mid[idx] = mid\n",
    "\n",
    "    uid_to_idx = {}\n",
    "    idx_to_uid = {}\n",
    "    for (idx, uid) in enumerate(df.user_id.unique().tolist()):\n",
    "        uid_to_idx[uid] = idx\n",
    "        idx_to_uid[idx] = uid\n",
    "\n",
    "    I = df.user_id.apply(map_ids, args=[uid_to_idx]).to_numpy()\n",
    "    J = df.movie_id.apply(map_ids, args=[mid_to_idx]).to_numpy()\n",
    "    V = np.ones(I.shape[0])\n",
    "    \n",
    "    X_sp = sp.coo_matrix((V, (I, J)), dtype=np.float64)\n",
    "    X_sp = X_sp.tocsr()\n",
    "    \n",
    "    return X_sp, idx_to_mid, uid_to_idx"
   ]
  },
  {
   "cell_type": "code",
   "execution_count": 4,
   "id": "520339ed",
   "metadata": {},
   "outputs": [],
   "source": [
    "def train_test_split(X, split_count=1, test_fraction=0.2):\n",
    "    train = X.copy().tocoo()\n",
    "    test = sp.lil_matrix(train.shape)\n",
    "    \n",
    "    limit_idx = int(test_fraction * train.sum())\n",
    "    \n",
    "    try:\n",
    "        user_index = np.random.choice(\n",
    "            np.where(np.bincount(train.row) >= split_count * 2)[0], \n",
    "            replace=False, \n",
    "            size=limit_idx\n",
    "        ).tolist()\n",
    "    except Exception as e: \n",
    "        print(e)\n",
    "    \n",
    "    user_index = user_index[:limit_idx]\n",
    "\n",
    "    train = train.tolil()\n",
    "\n",
    "    for user in user_index:\n",
    "        test_X = np.random.choice(X.getrow(user).indices, \n",
    "                                        size=split_count, \n",
    "                                        replace=False)\n",
    "        train[user, test_X] = 0.\n",
    "        test[user, test_X] = X[user, test_X]\n",
    "   \n",
    "    assert(train.multiply(test).nnz == 0)\n",
    "    return train.tocsr(), test.tocsr(), user_index"
   ]
  },
  {
   "cell_type": "code",
   "execution_count": 5,
   "id": "a7da9a28",
   "metadata": {},
   "outputs": [],
   "source": [
    "def val_test_split(X, user_index):\n",
    "    val = X.copy().tocoo()\n",
    "    test = sp.lil_matrix(val.shape)\n",
    "    \n",
    "    idx = len(user_index)//2\n",
    "    val_user_index = user_index[0:idx]\n",
    "    test_user_index = user_index[idx:]\n",
    "    \n",
    "    val = val.tolil()\n",
    "\n",
    "    for user in test_user_index:\n",
    "        test_X = np.random.choice(X.getrow(user).indices, size=1, replace=False)\n",
    "        val[user, test_X] = 0.\n",
    "        test[user, test_X] = X[user, test_X]\n",
    "    \n",
    "    assert(val.multiply(test).nnz == 0)\n",
    "    return val.tocsr(), test.tocsr(), val_user_index, test_user_index"
   ]
  },
  {
   "cell_type": "markdown",
   "id": "e302be50",
   "metadata": {},
   "source": [
    "### 100k dataset"
   ]
  },
  {
   "cell_type": "code",
   "execution_count": 8,
   "id": "d18b897b",
   "metadata": {},
   "outputs": [
    {
     "name": "stdout",
     "output_type": "stream",
     "text": [
      "Train data: 87803.0\n",
      "Val data: 10975.0\n",
      "Test data: 10975.0\n"
     ]
    }
   ],
   "source": [
    "X_100k, idx_to_mid, uid_to_idx = matrix_data(df100k)\n",
    "train_100k, temp_100k, user_index_100k = train_test_split(X_100k)\n",
    "val_100k, test_100k, val_user_index_100k, test_user_index_100k = val_test_split(temp_100k, user_index_100k)\n",
    "print(\"Train data: {}\".format(train_100k.sum()))\n",
    "print(\"Val data: {}\".format(val_100k.sum()))\n",
    "print(\"Test data: {}\".format(test_100k.sum()))"
   ]
  },
  {
   "cell_type": "code",
   "execution_count": 10,
   "id": "b817c3fa",
   "metadata": {},
   "outputs": [],
   "source": [
    "sp.save_npz('../data/train_100k.npz', train_100k)\n",
    "sp.save_npz('../data/val_100k.npz', val_100k)\n",
    "sp.save_npz('../data/test_100k.npz', test_100k)\n",
    "\n",
    "with open('../data/val_user_index_100k.npy', 'wb') as f:\n",
    "    np.save(f, np.array(val_user_index_100k))\n",
    "    \n",
    "with open('../data/test_user_index_100k.npy', 'wb') as f:\n",
    "    np.save(f, np.array(test_user_index_100k))\n",
    "    \n",
    "with open('../data/idx_to_mid_100k.pkl', 'wb') as f:\n",
    "    pickle.dump(idx_to_mid, f)\n",
    "\n",
    "with open('../data/uid_to_idx_100k.pkl', 'wb') as f:\n",
    "    pickle.dump(uid_to_idx, f)"
   ]
  },
  {
   "cell_type": "code",
   "execution_count": 9,
   "id": "8694d66b",
   "metadata": {},
   "outputs": [
    {
     "data": {
      "text/plain": [
       "(28348, 3720)"
      ]
     },
     "execution_count": 9,
     "metadata": {},
     "output_type": "execute_result"
    }
   ],
   "source": [
    "X_100k.shape"
   ]
  },
  {
   "cell_type": "markdown",
   "id": "5a9447fe",
   "metadata": {},
   "source": [
    "### 500k dataset"
   ]
  },
  {
   "cell_type": "code",
   "execution_count": 11,
   "id": "1677bc16",
   "metadata": {},
   "outputs": [],
   "source": [
    "X_500k, idx_to_mid, uid_to_idx = matrix_data(df500k)"
   ]
  },
  {
   "cell_type": "code",
   "execution_count": 12,
   "id": "218a21bb",
   "metadata": {},
   "outputs": [
    {
     "data": {
      "text/plain": [
       "(73093, 6736)"
      ]
     },
     "execution_count": 12,
     "metadata": {},
     "output_type": "execute_result"
    }
   ],
   "source": [
    "X_500k.shape"
   ]
  },
  {
   "cell_type": "code",
   "execution_count": 13,
   "id": "54f2c889",
   "metadata": {},
   "outputs": [
    {
     "name": "stdout",
     "output_type": "stream",
     "text": [
      "Train data: 453415.0\n",
      "Val data: 25189.0\n",
      "Test data: 25190.0\n"
     ]
    }
   ],
   "source": [
    "train_500k, temp_500k, user_index_500k = train_test_split(X_500k, test_fraction=0.10)\n",
    "val_500k, test_500k, val_user_index_500k, test_user_index_500k = val_test_split(temp_500k, user_index_500k)\n",
    "print(\"Train data: {}\".format(train_500k.sum()))\n",
    "print(\"Val data: {}\".format(val_500k.sum()))\n",
    "print(\"Test data: {}\".format(test_500k.sum()))"
   ]
  },
  {
   "cell_type": "code",
   "execution_count": 14,
   "id": "814e0d55",
   "metadata": {},
   "outputs": [],
   "source": [
    "sp.save_npz('../data/train_500k.npz', train_500k)\n",
    "sp.save_npz('../data/val_500k.npz', val_500k)\n",
    "sp.save_npz('../data/test_500k.npz', test_500k)\n",
    "\n",
    "with open('../data/val_user_index_500k.npy', 'wb') as f:\n",
    "    np.save(f, np.array(val_user_index_500k))\n",
    "    \n",
    "with open('../data/test_user_index_500k.npy', 'wb') as f:\n",
    "    np.save(f, np.array(test_user_index_500k))\n",
    "\n",
    "with open('../data/idx_to_mid_500k.pkl', 'wb') as f:\n",
    "    pickle.dump(idx_to_mid, f)\n",
    "\n",
    "with open('../data/uid_to_idx_500k.pkl', 'wb') as f:\n",
    "    pickle.dump(uid_to_idx, f)"
   ]
  },
  {
   "cell_type": "markdown",
   "id": "30f6dcb5",
   "metadata": {},
   "source": [
    "### 1.5M dataset"
   ]
  },
  {
   "cell_type": "code",
   "execution_count": 15,
   "id": "f31012d3",
   "metadata": {},
   "outputs": [],
   "source": [
    "X_1500k, idx_to_mid, uid_to_idx = matrix_data(df)"
   ]
  },
  {
   "cell_type": "code",
   "execution_count": 16,
   "id": "63c97b4d",
   "metadata": {},
   "outputs": [
    {
     "data": {
      "text/plain": [
       "(94641, 15224)"
      ]
     },
     "execution_count": 16,
     "metadata": {},
     "output_type": "execute_result"
    }
   ],
   "source": [
    "X_1500k.shape"
   ]
  },
  {
   "cell_type": "code",
   "execution_count": 17,
   "id": "d516b78e",
   "metadata": {},
   "outputs": [
    {
     "name": "stdout",
     "output_type": "stream",
     "text": [
      "Train data: 1417693.0\n",
      "Val data: 37307.0\n",
      "Test data: 37308.0\n"
     ]
    }
   ],
   "source": [
    "train_1500k, temp_1500k, user_index_1500k = train_test_split(X_1500k, test_fraction=0.05)\n",
    "val_1500k, test_1500k, val_user_index_1500k, test_user_index_1500k = val_test_split(temp_1500k, user_index_1500k)\n",
    "print(\"Train data: {}\".format(train_1500k.sum()))\n",
    "print(\"Val data: {}\".format(val_1500k.sum()))\n",
    "print(\"Test data: {}\".format(test_1500k.sum()))"
   ]
  },
  {
   "cell_type": "code",
   "execution_count": 18,
   "id": "fc1f6fdc",
   "metadata": {},
   "outputs": [],
   "source": [
    "sp.save_npz('../data/train_1500k.npz', train_1500k)\n",
    "sp.save_npz('../data/val_1500k.npz', val_1500k)\n",
    "sp.save_npz('../data/test_1500k.npz', test_1500k)\n",
    "\n",
    "with open('../data/val_user_index_1500k.npy', 'wb') as f:\n",
    "    np.save(f, np.array(val_user_index_1500k))\n",
    "    \n",
    "with open('../data/test_user_index_1500k.npy', 'wb') as f:\n",
    "    np.save(f, np.array(test_user_index_1500k))\n",
    "\n",
    "with open('../data/idx_to_mid_1500k.pkl', 'wb') as f:\n",
    "    pickle.dump(idx_to_mid, f)\n",
    "\n",
    "with open('../data/uid_to_idx_1500k.pkl', 'wb') as f:\n",
    "    pickle.dump(uid_to_idx, f)"
   ]
  },
  {
   "cell_type": "code",
   "execution_count": 19,
   "id": "c40fd93e",
   "metadata": {},
   "outputs": [],
   "source": [
    "sp.save_npz('../data/X_1500k.npz', X_1500k)"
   ]
  },
  {
   "cell_type": "code",
   "execution_count": null,
   "id": "9c0238bc",
   "metadata": {},
   "outputs": [],
   "source": []
  }
 ],
 "metadata": {
  "kernelspec": {
   "display_name": "Python 3 (ipykernel)",
   "language": "python",
   "name": "python3"
  },
  "language_info": {
   "codemirror_mode": {
    "name": "ipython",
    "version": 3
   },
   "file_extension": ".py",
   "mimetype": "text/x-python",
   "name": "python",
   "nbconvert_exporter": "python",
   "pygments_lexer": "ipython3",
   "version": "3.8.8"
  }
 },
 "nbformat": 4,
 "nbformat_minor": 5
}
