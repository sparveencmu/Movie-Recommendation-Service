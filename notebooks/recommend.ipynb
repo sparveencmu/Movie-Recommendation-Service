{
 "cells": [
  {
   "cell_type": "code",
   "execution_count": 3,
   "id": "3c9179aa",
   "metadata": {},
   "outputs": [],
   "source": [
    "import pandas as pd\n",
    "import numpy as np\n",
    "import scipy.sparse as sp\n",
    "import pickle\n",
    "\n",
    "from implicit.als import AlternatingLeastSquares as ALS\n",
    "from implicit.gpu.als import AlternatingLeastSquares as ALSgpu\n",
    "from implicit.evaluation import precision_at_k, mean_average_precision_at_k, ndcg_at_k\n",
    "\n",
    "from surprise import accuracy\n",
    "from surprise.prediction_algorithms.matrix_factorization import SVD, SVDpp, NMF\n",
    "import surprise.dump as sdump"
   ]
  },
  {
   "cell_type": "markdown",
   "id": "66d9161b",
   "metadata": {},
   "source": [
    "# Implicit"
   ]
  },
  {
   "cell_type": "code",
   "execution_count": 176,
   "id": "fdd64314",
   "metadata": {},
   "outputs": [],
   "source": [
    "user_items = sp.load_npz('../data/X_1500k.npz')\n",
    "\n",
    "top_movies = pd.read_csv('../data/movies_top_100.csv')\n",
    "\n",
    "uid_to_idx = dict()\n",
    "with open('../data/uid_to_idx_1500k.pkl', 'rb') as f:\n",
    "    uid_to_idx = pickle.load(f)\n",
    "\n",
    "idx_to_mid = dict()\n",
    "with open('../data/idx_to_mid_1500k.pkl', 'rb') as f:\n",
    "    idx_to_mid = pickle.load(f)"
   ]
  },
  {
   "cell_type": "code",
   "execution_count": 9,
   "id": "71c9ae88",
   "metadata": {},
   "outputs": [
    {
     "name": "stderr",
     "output_type": "stream",
     "text": [
      "/Users/venny/Documents/Courses/17-645/Assignments/group-project-f22-popcorntime/env/lib/python3.8/site-packages/implicit/utils.py:28: UserWarning: OpenBLAS detected. Its highly recommend to set the environment variable 'export OPENBLAS_NUM_THREADS=1' to disable its internal multithreading\n",
      "  warnings.warn(\n"
     ]
    }
   ],
   "source": [
    "model = ALS()\n",
    "model = model.load('als.npz')"
   ]
  },
  {
   "cell_type": "code",
   "execution_count": 177,
   "id": "b5582a9b",
   "metadata": {},
   "outputs": [],
   "source": [
    "def get_recommendations(user_id, N=20, exclude_watched=True):\n",
    "    # if user already exist in our matrix\n",
    "    # recommend based on model\n",
    "    if user_id in uid_to_idx:\n",
    "        uid = uid_to_idx[user_id]\n",
    "        recs = recommend(uid, N, exclude_watched)\n",
    "    \n",
    "    # new user\n",
    "    # recommend top 100 movies randomly\n",
    "    else:\n",
    "        ids = top_movies.sample(n=N)\n",
    "        recs = pd.DataFrame({\"movies\": ids['movie_id']})\n",
    "        \n",
    "    return ','.join(recs['movies'])"
   ]
  },
  {
   "cell_type": "code",
   "execution_count": 178,
   "id": "9bff642a",
   "metadata": {},
   "outputs": [],
   "source": [
    "def recommend(uid, N=20, exclude_watched=True):\n",
    "    ids, scores = model.recommend(uid, user_items[uid], N=N, filter_already_liked_items=exclude_watched)\n",
    "    movies = [idx_to_mid[mid] for mid in ids]\n",
    "    df = pd.DataFrame({\"movies\": movies, \"score\": scores, \"already_liked\": np.in1d(ids, user_items[uid].indices)})\n",
    "    return df"
   ]
  },
  {
   "cell_type": "code",
   "execution_count": 179,
   "id": "0ece8293",
   "metadata": {},
   "outputs": [
    {
     "data": {
      "text/html": [
       "<div>\n",
       "<style scoped>\n",
       "    .dataframe tbody tr th:only-of-type {\n",
       "        vertical-align: middle;\n",
       "    }\n",
       "\n",
       "    .dataframe tbody tr th {\n",
       "        vertical-align: top;\n",
       "    }\n",
       "\n",
       "    .dataframe thead th {\n",
       "        text-align: right;\n",
       "    }\n",
       "</style>\n",
       "<table border=\"1\" class=\"dataframe\">\n",
       "  <thead>\n",
       "    <tr style=\"text-align: right;\">\n",
       "      <th></th>\n",
       "      <th>movies</th>\n",
       "      <th>score</th>\n",
       "      <th>already_liked</th>\n",
       "    </tr>\n",
       "  </thead>\n",
       "  <tbody>\n",
       "    <tr>\n",
       "      <th>0</th>\n",
       "      <td>british+intelligence+1940</td>\n",
       "      <td>0.386924</td>\n",
       "      <td>False</td>\n",
       "    </tr>\n",
       "    <tr>\n",
       "      <th>1</th>\n",
       "      <td>marie+antoinette+1938</td>\n",
       "      <td>0.330448</td>\n",
       "      <td>False</td>\n",
       "    </tr>\n",
       "    <tr>\n",
       "      <th>2</th>\n",
       "      <td>the+i+inside+2004</td>\n",
       "      <td>0.306735</td>\n",
       "      <td>False</td>\n",
       "    </tr>\n",
       "    <tr>\n",
       "      <th>3</th>\n",
       "      <td>the+deep+blue+sea+2011</td>\n",
       "      <td>0.195668</td>\n",
       "      <td>False</td>\n",
       "    </tr>\n",
       "    <tr>\n",
       "      <th>4</th>\n",
       "      <td>train+of+life+1998</td>\n",
       "      <td>0.149616</td>\n",
       "      <td>False</td>\n",
       "    </tr>\n",
       "    <tr>\n",
       "      <th>5</th>\n",
       "      <td>joan+rivers+a+piece+of+work+2010</td>\n",
       "      <td>0.142930</td>\n",
       "      <td>False</td>\n",
       "    </tr>\n",
       "    <tr>\n",
       "      <th>6</th>\n",
       "      <td>requiem+for+a+heavyweight+1962</td>\n",
       "      <td>0.125145</td>\n",
       "      <td>False</td>\n",
       "    </tr>\n",
       "    <tr>\n",
       "      <th>7</th>\n",
       "      <td>the+legend+of+drunken+master+1994</td>\n",
       "      <td>0.120198</td>\n",
       "      <td>False</td>\n",
       "    </tr>\n",
       "    <tr>\n",
       "      <th>8</th>\n",
       "      <td>silent+fall+1994</td>\n",
       "      <td>0.116761</td>\n",
       "      <td>False</td>\n",
       "    </tr>\n",
       "    <tr>\n",
       "      <th>9</th>\n",
       "      <td>evening+2007</td>\n",
       "      <td>0.111301</td>\n",
       "      <td>False</td>\n",
       "    </tr>\n",
       "    <tr>\n",
       "      <th>10</th>\n",
       "      <td>texas+killing+fields+2011</td>\n",
       "      <td>0.105850</td>\n",
       "      <td>False</td>\n",
       "    </tr>\n",
       "    <tr>\n",
       "      <th>11</th>\n",
       "      <td>head+over+heels+2001</td>\n",
       "      <td>0.100133</td>\n",
       "      <td>False</td>\n",
       "    </tr>\n",
       "    <tr>\n",
       "      <th>12</th>\n",
       "      <td>your+highness+2011</td>\n",
       "      <td>0.097768</td>\n",
       "      <td>False</td>\n",
       "    </tr>\n",
       "    <tr>\n",
       "      <th>13</th>\n",
       "      <td>the+godfather+part+iii+1990</td>\n",
       "      <td>0.093509</td>\n",
       "      <td>False</td>\n",
       "    </tr>\n",
       "    <tr>\n",
       "      <th>14</th>\n",
       "      <td>very+bad+things+1998</td>\n",
       "      <td>0.092285</td>\n",
       "      <td>False</td>\n",
       "    </tr>\n",
       "    <tr>\n",
       "      <th>15</th>\n",
       "      <td>swing+kids+1993</td>\n",
       "      <td>0.089265</td>\n",
       "      <td>False</td>\n",
       "    </tr>\n",
       "    <tr>\n",
       "      <th>16</th>\n",
       "      <td>wild+oranges+1924</td>\n",
       "      <td>0.086077</td>\n",
       "      <td>False</td>\n",
       "    </tr>\n",
       "    <tr>\n",
       "      <th>17</th>\n",
       "      <td>looker+1981</td>\n",
       "      <td>0.083635</td>\n",
       "      <td>False</td>\n",
       "    </tr>\n",
       "    <tr>\n",
       "      <th>18</th>\n",
       "      <td>head+above+water+1996</td>\n",
       "      <td>0.081447</td>\n",
       "      <td>False</td>\n",
       "    </tr>\n",
       "    <tr>\n",
       "      <th>19</th>\n",
       "      <td>friends+with+benefits+2011</td>\n",
       "      <td>0.080676</td>\n",
       "      <td>False</td>\n",
       "    </tr>\n",
       "  </tbody>\n",
       "</table>\n",
       "</div>"
      ],
      "text/plain": [
       "                               movies     score  already_liked\n",
       "0           british+intelligence+1940  0.386924          False\n",
       "1               marie+antoinette+1938  0.330448          False\n",
       "2                   the+i+inside+2004  0.306735          False\n",
       "3              the+deep+blue+sea+2011  0.195668          False\n",
       "4                  train+of+life+1998  0.149616          False\n",
       "5    joan+rivers+a+piece+of+work+2010  0.142930          False\n",
       "6      requiem+for+a+heavyweight+1962  0.125145          False\n",
       "7   the+legend+of+drunken+master+1994  0.120198          False\n",
       "8                    silent+fall+1994  0.116761          False\n",
       "9                        evening+2007  0.111301          False\n",
       "10          texas+killing+fields+2011  0.105850          False\n",
       "11               head+over+heels+2001  0.100133          False\n",
       "12                 your+highness+2011  0.097768          False\n",
       "13        the+godfather+part+iii+1990  0.093509          False\n",
       "14               very+bad+things+1998  0.092285          False\n",
       "15                    swing+kids+1993  0.089265          False\n",
       "16                  wild+oranges+1924  0.086077          False\n",
       "17                        looker+1981  0.083635          False\n",
       "18              head+above+water+1996  0.081447          False\n",
       "19         friends+with+benefits+2011  0.080676          False"
      ]
     },
     "execution_count": 179,
     "metadata": {},
     "output_type": "execute_result"
    }
   ],
   "source": [
    "recommend(0)"
   ]
  },
  {
   "cell_type": "code",
   "execution_count": 180,
   "id": "7a1d276f",
   "metadata": {},
   "outputs": [
    {
     "data": {
      "text/plain": [
       "'british+intelligence+1940,marie+antoinette+1938,the+i+inside+2004,the+deep+blue+sea+2011,train+of+life+1998,joan+rivers+a+piece+of+work+2010,requiem+for+a+heavyweight+1962,the+legend+of+drunken+master+1994,silent+fall+1994,evening+2007,texas+killing+fields+2011,head+over+heels+2001,your+highness+2011,the+godfather+part+iii+1990,very+bad+things+1998,swing+kids+1993,wild+oranges+1924,looker+1981,head+above+water+1996,friends+with+benefits+2011'"
      ]
     },
     "execution_count": 180,
     "metadata": {},
     "output_type": "execute_result"
    }
   ],
   "source": [
    "get_recommendations(54948)"
   ]
  },
  {
   "cell_type": "code",
   "execution_count": 181,
   "id": "1f1604da",
   "metadata": {},
   "outputs": [
    {
     "data": {
      "text/plain": [
       "'val+lewton+the+man+in+the+shadows+2007,platoon+1986,the+family+stone+2005,secret+sunshine+2007,breaking+point+1994,bells+from+the+deep+1993,wheres+poppa+1970,loft+2010,melvin+goes+to+dinner+2003,the+forgotten+one+1989,jekyll+and+hyde+...+together+again+1982,jet+lag+2002,indiana+jones+and+the+kingdom+of+the+crystal+skull+2008,a+better+life+2011,the+rock+1996,the+impostors+1998,taxi+driver+1976,desperate+living+1977,the+outlaw+1943,trapeze+1956'"
      ]
     },
     "execution_count": 181,
     "metadata": {},
     "output_type": "execute_result"
    }
   ],
   "source": [
    "get_recommendations(1000000)"
   ]
  },
  {
   "cell_type": "code",
   "execution_count": 189,
   "id": "7690955d",
   "metadata": {},
   "outputs": [
    {
     "name": "stdout",
     "output_type": "stream",
     "text": [
      "498 µs ± 7.23 µs per loop (mean ± std. dev. of 7 runs, 1,000 loops each)\n"
     ]
    }
   ],
   "source": [
    "%%timeit\n",
    "get_recommendations(54948)"
   ]
  },
  {
   "cell_type": "markdown",
   "id": "a2eda5b1",
   "metadata": {},
   "source": [
    "# Explicit"
   ]
  },
  {
   "cell_type": "code",
   "execution_count": 182,
   "id": "8f5550d4",
   "metadata": {},
   "outputs": [],
   "source": [
    "_, nmf = sdump.load(\"nmf.pkl\")\n",
    "\n",
    "uids = set(np.load('../data/uid_35k.npy').flatten())\n",
    "\n",
    "idx_to_mid = dict()\n",
    "with open('../data/idx_to_mid_1500k.pkl', 'rb') as f:\n",
    "    idx_to_mid = pickle.load(f)"
   ]
  },
  {
   "cell_type": "code",
   "execution_count": 183,
   "id": "0244b916",
   "metadata": {},
   "outputs": [],
   "source": [
    "def get_recommendations(user_id, N=20):\n",
    "    # if user already exist in our matrix\n",
    "    # recommend based on model\n",
    "    if user_id in uids:\n",
    "        recs = recommend(user_id, N)\n",
    "    \n",
    "    # new user\n",
    "    # recommend top 100 movies randomly\n",
    "    else:\n",
    "        ids = top_movies.sample(n=N)\n",
    "        recs = pd.DataFrame({\"movies\": ids['movie_id']})\n",
    "        \n",
    "    return ','.join(recs['movies'])"
   ]
  },
  {
   "cell_type": "code",
   "execution_count": 184,
   "id": "478bce3f",
   "metadata": {},
   "outputs": [],
   "source": [
    "def recommend(uid, N=20):\n",
    "    ratings = []\n",
    "    for mid in range(len(idx_to_mid)):\n",
    "        ratings.append(nmf.predict(str(uid), str(mid))[3])\n",
    "\n",
    "    ratings = np.array(ratings)\n",
    "    ids = np.argsort(ratings)[-N:]\n",
    "    \n",
    "    movies = [idx_to_mid[mid] for mid in ids]\n",
    "    scores = [ratings[mid] for mid in ids]\n",
    "    \n",
    "    df = pd.DataFrame({\"movies\": movies, \"score\": scores})\n",
    "    return df"
   ]
  },
  {
   "cell_type": "code",
   "execution_count": 185,
   "id": "07411f1c",
   "metadata": {},
   "outputs": [
    {
     "data": {
      "text/html": [
       "<div>\n",
       "<style scoped>\n",
       "    .dataframe tbody tr th:only-of-type {\n",
       "        vertical-align: middle;\n",
       "    }\n",
       "\n",
       "    .dataframe tbody tr th {\n",
       "        vertical-align: top;\n",
       "    }\n",
       "\n",
       "    .dataframe thead th {\n",
       "        text-align: right;\n",
       "    }\n",
       "</style>\n",
       "<table border=\"1\" class=\"dataframe\">\n",
       "  <thead>\n",
       "    <tr style=\"text-align: right;\">\n",
       "      <th></th>\n",
       "      <th>movies</th>\n",
       "      <th>score</th>\n",
       "    </tr>\n",
       "  </thead>\n",
       "  <tbody>\n",
       "    <tr>\n",
       "      <th>0</th>\n",
       "      <td>scrooge+1951</td>\n",
       "      <td>5.0</td>\n",
       "    </tr>\n",
       "    <tr>\n",
       "      <th>1</th>\n",
       "      <td>tsotsi+2005</td>\n",
       "      <td>5.0</td>\n",
       "    </tr>\n",
       "    <tr>\n",
       "      <th>2</th>\n",
       "      <td>kikis+delivery+service+1989</td>\n",
       "      <td>5.0</td>\n",
       "    </tr>\n",
       "    <tr>\n",
       "      <th>3</th>\n",
       "      <td>cabaret+1972</td>\n",
       "      <td>5.0</td>\n",
       "    </tr>\n",
       "    <tr>\n",
       "      <th>4</th>\n",
       "      <td>spider-man+2002</td>\n",
       "      <td>5.0</td>\n",
       "    </tr>\n",
       "    <tr>\n",
       "      <th>5</th>\n",
       "      <td>doctor+zhivago+1965</td>\n",
       "      <td>5.0</td>\n",
       "    </tr>\n",
       "    <tr>\n",
       "      <th>6</th>\n",
       "      <td>edward+scissorhands+1990</td>\n",
       "      <td>5.0</td>\n",
       "    </tr>\n",
       "    <tr>\n",
       "      <th>7</th>\n",
       "      <td>pieces+of+april+2003</td>\n",
       "      <td>5.0</td>\n",
       "    </tr>\n",
       "    <tr>\n",
       "      <th>8</th>\n",
       "      <td>manhattan+1979</td>\n",
       "      <td>5.0</td>\n",
       "    </tr>\n",
       "    <tr>\n",
       "      <th>9</th>\n",
       "      <td>rebel+without+a+cause+1955</td>\n",
       "      <td>5.0</td>\n",
       "    </tr>\n",
       "    <tr>\n",
       "      <th>10</th>\n",
       "      <td>persona+1966</td>\n",
       "      <td>5.0</td>\n",
       "    </tr>\n",
       "    <tr>\n",
       "      <th>11</th>\n",
       "      <td>to+catch+a+thief+1955</td>\n",
       "      <td>5.0</td>\n",
       "    </tr>\n",
       "    <tr>\n",
       "      <th>12</th>\n",
       "      <td>a+simple+plan+1998</td>\n",
       "      <td>5.0</td>\n",
       "    </tr>\n",
       "    <tr>\n",
       "      <th>13</th>\n",
       "      <td>breakfast+at+tiffanys+1961</td>\n",
       "      <td>5.0</td>\n",
       "    </tr>\n",
       "    <tr>\n",
       "      <th>14</th>\n",
       "      <td>baran+2001</td>\n",
       "      <td>5.0</td>\n",
       "    </tr>\n",
       "    <tr>\n",
       "      <th>15</th>\n",
       "      <td>hoop+dreams+1994</td>\n",
       "      <td>5.0</td>\n",
       "    </tr>\n",
       "    <tr>\n",
       "      <th>16</th>\n",
       "      <td>terms+of+endearment+1983</td>\n",
       "      <td>5.0</td>\n",
       "    </tr>\n",
       "    <tr>\n",
       "      <th>17</th>\n",
       "      <td>broken+flowers+2005</td>\n",
       "      <td>5.0</td>\n",
       "    </tr>\n",
       "    <tr>\n",
       "      <th>18</th>\n",
       "      <td>miss+congeniality+2000</td>\n",
       "      <td>5.0</td>\n",
       "    </tr>\n",
       "    <tr>\n",
       "      <th>19</th>\n",
       "      <td>forrest+gump+1994</td>\n",
       "      <td>5.0</td>\n",
       "    </tr>\n",
       "  </tbody>\n",
       "</table>\n",
       "</div>"
      ],
      "text/plain": [
       "                         movies  score\n",
       "0                  scrooge+1951    5.0\n",
       "1                   tsotsi+2005    5.0\n",
       "2   kikis+delivery+service+1989    5.0\n",
       "3                  cabaret+1972    5.0\n",
       "4               spider-man+2002    5.0\n",
       "5           doctor+zhivago+1965    5.0\n",
       "6      edward+scissorhands+1990    5.0\n",
       "7          pieces+of+april+2003    5.0\n",
       "8                manhattan+1979    5.0\n",
       "9    rebel+without+a+cause+1955    5.0\n",
       "10                 persona+1966    5.0\n",
       "11        to+catch+a+thief+1955    5.0\n",
       "12           a+simple+plan+1998    5.0\n",
       "13   breakfast+at+tiffanys+1961    5.0\n",
       "14                   baran+2001    5.0\n",
       "15             hoop+dreams+1994    5.0\n",
       "16     terms+of+endearment+1983    5.0\n",
       "17          broken+flowers+2005    5.0\n",
       "18       miss+congeniality+2000    5.0\n",
       "19            forrest+gump+1994    5.0"
      ]
     },
     "execution_count": 185,
     "metadata": {},
     "output_type": "execute_result"
    }
   ],
   "source": [
    "recommend(36583)"
   ]
  },
  {
   "cell_type": "code",
   "execution_count": 186,
   "id": "62724b5b",
   "metadata": {},
   "outputs": [
    {
     "data": {
      "text/plain": [
       "'scrooge+1951,tsotsi+2005,kikis+delivery+service+1989,cabaret+1972,spider-man+2002,doctor+zhivago+1965,edward+scissorhands+1990,pieces+of+april+2003,manhattan+1979,rebel+without+a+cause+1955,persona+1966,to+catch+a+thief+1955,a+simple+plan+1998,breakfast+at+tiffanys+1961,baran+2001,hoop+dreams+1994,terms+of+endearment+1983,broken+flowers+2005,miss+congeniality+2000,forrest+gump+1994'"
      ]
     },
     "execution_count": 186,
     "metadata": {},
     "output_type": "execute_result"
    }
   ],
   "source": [
    "get_recommendations(36583)"
   ]
  },
  {
   "cell_type": "code",
   "execution_count": 188,
   "id": "ac4cb41d",
   "metadata": {},
   "outputs": [
    {
     "data": {
      "text/plain": [
       "'the+affair+of+the+necklace+2001,tuck+everlasting+2002,elf+2003,ghosts...+of+the+civil+dead+1989,my+fair+lady+1964,men+in+black+1997,veronica+mars+2014,turn+me+on_+dammit+2011,tidal+wave+2009,five+and+ten+1931,the+champ+1931,la+cage+aux+folles+ii+1980,the+spiders+-+the+golden+sea+1919,sabotage+2014,the+commitments+1991,open+water+2004,m.+butterfly+1993,amour+2012,diamond+men+2000,the+endless+summer+2+1994'"
      ]
     },
     "execution_count": 188,
     "metadata": {},
     "output_type": "execute_result"
    }
   ],
   "source": [
    "get_recommendations(1000000)"
   ]
  },
  {
   "cell_type": "code",
   "execution_count": 190,
   "id": "575215fd",
   "metadata": {},
   "outputs": [
    {
     "name": "stdout",
     "output_type": "stream",
     "text": [
      "53.9 ms ± 829 µs per loop (mean ± std. dev. of 7 runs, 10 loops each)\n"
     ]
    }
   ],
   "source": [
    "%%timeit\n",
    "get_recommendations(36583)"
   ]
  },
  {
   "cell_type": "code",
   "execution_count": null,
   "id": "c54359d8",
   "metadata": {},
   "outputs": [],
   "source": []
  }
 ],
 "metadata": {
  "kernelspec": {
   "display_name": "Python 3 (ipykernel)",
   "language": "python",
   "name": "python3"
  },
  "language_info": {
   "codemirror_mode": {
    "name": "ipython",
    "version": 3
   },
   "file_extension": ".py",
   "mimetype": "text/x-python",
   "name": "python",
   "nbconvert_exporter": "python",
   "pygments_lexer": "ipython3",
   "version": "3.8.8"
  }
 },
 "nbformat": 4,
 "nbformat_minor": 5
}
